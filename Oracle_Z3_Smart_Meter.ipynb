{
 "cells": [
  {
   "cell_type": "markdown",
   "metadata": {
    "extensions": {
     "jupyter_dashboards": {
      "version": 1,
      "views": {
       "grid_default": {
        "col": 0,
        "height": 4,
        "hidden": true,
        "row": 38,
        "width": 4
       },
       "report_default": {}
      }
     }
    }
   },
   "source": [
    "<span style=\"color:Blue; font-family:Times New Roman; font-size:1.2em;\">Import Required Packages</span>"
   ]
  },
  {
   "cell_type": "code",
   "execution_count": 10,
   "metadata": {
    "ExecuteTime": {
     "end_time": "2018-07-17T14:29:02.484000Z",
     "start_time": "2018-07-17T14:29:02.467000Z"
    },
    "code_folding": [
     0
    ],
    "extensions": {
     "jupyter_dashboards": {
      "version": 1,
      "views": {
       "grid_default": {
        "hidden": true
       },
       "report_default": {}
      }
     }
    }
   },
   "outputs": [
    {
     "data": {
      "text/html": [
       "<script>requirejs.config({paths: { 'plotly': ['https://cdn.plot.ly/plotly-latest.min']},});if(!window.Plotly) {{require(['plotly'],function(plotly) {window.Plotly=plotly;});}}</script>"
      ],
      "text/vnd.plotly.v1+html": [
       "<script>requirejs.config({paths: { 'plotly': ['https://cdn.plot.ly/plotly-latest.min']},});if(!window.Plotly) {{require(['plotly'],function(plotly) {window.Plotly=plotly;});}}</script>"
      ]
     },
     "metadata": {},
     "output_type": "display_data"
    }
   ],
   "source": [
    "### Data Processing Packages\n",
    "import requests # web api \n",
    "import platform, os, sys # system, file,and directory \n",
    "import json, pprint # json \n",
    "import logging, timeit # run time \n",
    "import pandas as pd \n",
    "import numpy as np\n",
    "\n",
    "### Datetime Processing Packages\n",
    "from datetime import datetime # datetime \n",
    "import time, dateutil, pytz, calendar # UNIX Time\n",
    "from tzlocal import get_localzone # timezone \n",
    "\n",
    "### Dashboard Packages\n",
    "import plotly\n",
    "import plotly.plotly as py\n",
    "import plotly.figure_factory as ff\n",
    "from plotly.offline import download_plotlyjs, init_notebook_mode, plot, iplot\n",
    "\n",
    "plotly.tools.set_credentials_file(username='', api_key='')\n",
    "init_notebook_mode(connected=True)\n",
    "\n",
    "### Parallel Processing Packages\n",
    "from concurrent.futures import ThreadPoolExecutor\n",
    "from concurrent.futures import as_completed"
   ]
  },
  {
   "cell_type": "markdown",
   "metadata": {
    "ExecuteTime": {
     "end_time": "2018-07-11T18:43:53.606000Z",
     "start_time": "2018-07-11T18:43:53.600000Z"
    },
    "extensions": {
     "jupyter_dashboards": {
      "version": 1,
      "views": {
       "grid_default": {
        "col": 0,
        "height": 4,
        "hidden": true,
        "row": 28,
        "width": 4
       },
       "report_default": {}
      }
     }
    }
   },
   "source": [
    "<span style=\"color:Blue; font-family:Times New Roman; font-size:1.2em;\">Check Current Working Directory</span>"
   ]
  },
  {
   "cell_type": "code",
   "execution_count": 11,
   "metadata": {
    "ExecuteTime": {
     "end_time": "2018-07-17T14:29:04.277000Z",
     "start_time": "2018-07-17T14:29:04.273000Z"
    },
    "extensions": {
     "jupyter_dashboards": {
      "version": 1,
      "views": {
       "grid_default": {
        "hidden": true
       },
       "report_default": {}
      }
     }
    }
   },
   "outputs": [
    {
     "name": "stdout",
     "output_type": "stream",
     "text": [
      "\u001b[2;37;40mCurrent file directory is in YRK59206 computer and file folder C:\\Users\\leejas\\Desktop\\Summer Project\n",
      "\n",
      "C:\\Users\\leejas\\Desktop\\Summer Project\n"
     ]
    }
   ],
   "source": [
    "print (\"\\033[2;37;40mCurrent file directory is in {} computer and file folder {}\\n\" .format(platform.uname()[1], os.getcwd()))\n",
    "os.chdir(\"C:\\\\Users\\\\leejas\\\\Desktop\\\\Summer Project\")\n",
    "print (os.getcwd())"
   ]
  },
  {
   "cell_type": "markdown",
   "metadata": {
    "extensions": {
     "jupyter_dashboards": {
      "version": 1,
      "views": {
       "grid_default": {
        "hidden": true
       },
       "report_default": {}
      }
     }
    }
   },
   "source": [
    "<span style=\"color:Blue; font-family:Times New Roman; font-size:1.2em;\">Read Smart Meter Information</span>"
   ]
  },
  {
   "cell_type": "code",
   "execution_count": 20,
   "metadata": {
    "ExecuteTime": {
     "end_time": "2018-07-17T16:40:41.100000Z",
     "start_time": "2018-07-17T16:40:34.204000Z"
    },
    "code_folding": [
     0,
     7
    ],
    "extensions": {
     "jupyter_dashboards": {
      "version": 1,
      "views": {
       "grid_default": {
        "col": 0,
        "height": 28,
        "hidden": false,
        "row": 28,
        "width": 5
       },
       "report_default": {}
      }
     }
    }
   },
   "outputs": [
    {
     "data": {
      "text/html": [
       "<iframe id=\"igraph\" scrolling=\"no\" style=\"border:none;\" seamless=\"seamless\" src=\"https://plot.ly/~jasonleetoronto2018/132.embed\" height=\"800px\" width=\"350px\"></iframe>"
      ],
      "text/plain": [
       "<plotly.tools.PlotlyDisplay object>"
      ]
     },
     "execution_count": 20,
     "metadata": {},
     "output_type": "execute_result"
    }
   ],
   "source": [
    "def trimAllColumns(df):\n",
    "    \"\"\"\n",
    "    Trim whitespace from ends of each value across all series in dataframe\n",
    "    \"\"\"\n",
    "    trimStrings = lambda x: x.strip() if type(x) is str else x\n",
    "    return df.applymap(trimStrings)\n",
    "\n",
    "def read_meter_info():\n",
    "    ### Create function for reading in smart meter ip address\n",
    "    \n",
    "    df_meter_info = pd.read_excel(\"meter_ip_list.xlsx\")\n",
    "    df_meter_info.head(5)\n",
    "\n",
    "    for column in df_meter_info.columns:\n",
    "        df_meter_info[column]=df_meter_info[column].astype(str)\n",
    "        \n",
    "    trimAllColumns(df_meter_info)    \n",
    "    \n",
    "    return df_meter_info\n",
    "\n",
    "df_meter_info = read_meter_info()\n",
    "df_meter_info.rename(columns={'IP Address':'IP_Address'}, inplace=True) # Remove space in column name\n",
    "df_meter_info[\"Real Time\"]=df_meter_info['IP_Address'].apply(lambda x: '<a href=\"http://'+x+'/istat.html\">'+x+'</a>')\n",
    "\n",
    "list_meter_name = list(df_meter_info[\"Meter\"]) \n",
    "list_meter_ip = list(df_meter_info[\"IP_Address\"]) \n",
    "\n",
    "table = ff.create_table(df_meter_info[[\"Meter\",\"Real Time\"]])\n",
    "table.layout.width=350\n",
    "py.iplot(table)\n"
   ]
  },
  {
   "cell_type": "markdown",
   "metadata": {
    "ExecuteTime": {
     "end_time": "2018-07-09T17:33:11.715000Z",
     "start_time": "2018-07-09T17:33:11.661000Z"
    },
    "extensions": {
     "jupyter_dashboards": {
      "version": 1,
      "views": {
       "grid_default": {
        "hidden": true
       },
       "report_default": {}
      }
     }
    }
   },
   "source": [
    "<span style=\"color:Blue; font-family:Times New Roman; font-size:1.2em;\">Define Required Time Module</span>"
   ]
  },
  {
   "cell_type": "code",
   "execution_count": 13,
   "metadata": {
    "ExecuteTime": {
     "end_time": "2018-07-17T14:29:24.401000Z",
     "start_time": "2018-07-17T14:29:24.329000Z"
    },
    "code_folding": [
     0,
     26,
     44,
     53,
     65,
     68,
     71
    ],
    "extensions": {
     "jupyter_dashboards": {
      "version": 1,
      "views": {
       "grid_default": {
        "hidden": true
       },
       "report_default": {}
      }
     }
    }
   },
   "outputs": [],
   "source": [
    "def z3_to_posix(z3_date):\n",
    "    \n",
    "    ''' Changes epoch base z3_date(int)from 2010/01/01(Z3 Epoch time)\\\n",
    "    to 1970/01/01 (posix/UNIX Epoch time) \n",
    "    '''\n",
    "    \n",
    "    z3_epoch_base = \"2010-01-01 00:00:00\"    \n",
    "    posix_epoch_base = \"1970-01-01 00:00:00\"\n",
    "    \n",
    "    time_format = \"%Y-%m-%d %H:%M:%S\"\n",
    "    \n",
    "    # Calculate time delta between z3_epoch_base_date & posix_epoch_base_date\n",
    "    start_date = datetime.strptime(posix_epoch_base, time_format) # convert string into datetime\n",
    "    end_date = datetime.strptime(z3_epoch_base, time_format) # convert string into datetime\n",
    "    \n",
    "    diff = end_date - start_date\n",
    "    \n",
    "    '''\n",
    "    diff.days \n",
    "    diff.seconds//3600 \n",
    "    diff.seconds % 3600/60\n",
    "    diff.seconds % 3600 % 3600\n",
    "    \n",
    "    '''\n",
    "    return z3_date + diff.total_seconds()\n",
    "\n",
    "def posix_to_z3(posix_date):\n",
    "    \n",
    "    # Changes epoch base posix_date(int)from to 2010/01/01(Z3 Epoch time)\n",
    "\n",
    "    \n",
    "    z3_epoch_base = \"2010-01-01 00:00:00\"    \n",
    "    posix_epoch_base = \"1970-01-01 00:00:00\"\n",
    "    \n",
    "    time_format = \"%Y-%m-%d %H:%M:%S\"\n",
    "    \n",
    "    # Calculate time delta between z3_epoch_base_date & posix_epoch_base_date\n",
    "    start_date = datetime.strptime(posix_epoch_base, time_format) # convert string into datetime\n",
    "    end_date = datetime.strptime(z3_epoch_base, time_format) # convert string into datetime\n",
    "    \n",
    "    diff = end_date - start_date\n",
    "    \n",
    "    return posix_date - diff.total_seconds()\n",
    "\n",
    "def posix_to_local(utc_date):\n",
    "    # Create a function for converting POSIX time to UTC time to local timezone time\n",
    "        \n",
    "    local_tz = get_localzone() # get local timezone\n",
    "    utc_time = datetime.utcfromtimestamp(utc_date) # UTC Time\n",
    "    local_time = utc_time.replace(tzinfo=pytz.utc).astimezone(local_tz) # Local Timezone Time\n",
    "    \n",
    "    return local_time\n",
    "\n",
    "def local_to_posix(local_date):\n",
    "    # Create a function for converting local time zone time to posix time\n",
    "    \n",
    "    local_tz = pytz.timezone(str(get_localzone())) # get local time zone & create pytz tz timezone object\n",
    "    time_format = \"%Y-%m-%d %H:%M:%S\"\n",
    "    \n",
    "    local_date = datetime.strptime(local_date, time_format)\n",
    "    local_date = local_tz.localize(local_date)\n",
    "    local_date = local_date.astimezone(dateutil.tz.tzutc()).timetuple()\n",
    "    \n",
    "    return calendar.timegm(local_date)\n",
    "\n",
    "def z3_to_local(z3_date):\n",
    "    return posix_to_local(z3_to_posix(z3_date))\n",
    "\n",
    "def local_to_z3(local_date):\n",
    "    return posix_to_z3(local_to_posix(local_date))\n",
    "\n",
    "def settlement_day_of_month(mydate, end=1):\n",
    "    ### Create a function for calculating the last day of the month\n",
    "    \n",
    "    time_format = \"%Y-%m-%d\"\n",
    "    mydate=datetime.strptime(mydate, time_format)\n",
    "    \n",
    "    if end==0:\n",
    "        mydate=datetime(mydate.year,mydate.month,1)\n",
    "    \n",
    "    else:\n",
    "        mydate=datetime(mydate.year,mydate.month,1)+dateutil.relativedelta.relativedelta(months=1,days=-1)\n",
    "    \n",
    "    return mydate"
   ]
  },
  {
   "cell_type": "markdown",
   "metadata": {
    "ExecuteTime": {
     "end_time": "2018-07-11T18:45:57.899000Z",
     "start_time": "2018-07-11T18:45:57.892000Z"
    },
    "extensions": {
     "jupyter_dashboards": {
      "version": 1,
      "views": {
       "grid_default": {
        "hidden": true
       },
       "report_default": {}
      }
     }
    }
   },
   "source": [
    "<span style=\"color:Blue; font-family:Times New Roman; font-size:1.2em;\">Create ETL Module</span>"
   ]
  },
  {
   "cell_type": "code",
   "execution_count": 14,
   "metadata": {
    "ExecuteTime": {
     "end_time": "2018-07-17T14:29:27.207000Z",
     "start_time": "2018-07-17T14:29:27.176000Z"
    },
    "code_folding": [
     0
    ],
    "extensions": {
     "jupyter_dashboards": {
      "version": 1,
      "views": {
       "grid_default": {
        "hidden": true
       },
       "report_default": {}
      }
     }
    }
   },
   "outputs": [],
   "source": [
    "def fetch_datalog(meter_name, url):\n",
    "    # Import API processing packages\n",
    "    import requests # http package\n",
    "    import json # json package\n",
    "    \n",
    "    # Fetch datalog smart meter data \n",
    "    try:\n",
    "        url = requests.get(\"http://\"+url+\"/datalog.json?hdr=1\")\n",
    "        dict_datalog = json.loads(url.text)\n",
    "        power_mult = dict_datalog[\"scale\"][4]\n",
    "        energy_mult = dict_datalog[\"scale\"][6]\n",
    "        column_names = dict_datalog[\"names\"]\n",
    "        list_power = dict_datalog[\"logdata\"]\n",
    "        df_power = pd.DataFrame(list_power,columns=column_names)\n",
    "        \n",
    "        df_power[\"Local Time\"] = df_power[\"time\"].apply(lambda x: datetime.strftime(z3_to_local(x),\"%Y-%m-%d %H:%M:%S\"))\n",
    "        df_power[\"P(A+B+C)\"] = df_power[\"P(A+B+C)\"]*power_mult\n",
    "        df_power[\"kWh(A+B+C)\"] = df_power[\"WHr(A+B+C)\"]*(energy_mult/1000)\n",
    "        \n",
    "        df_power.rename(columns={\"time\":\"Z3 Datetime\"}, inplace=True)\n",
    "        df_datalog[meter_name]=df_power.sort_values([\"Local Time\"], ascending=[False])\n",
    "        print \"\\033[2;34;40mSuccessfully fetched {} datalog from {} to {}\\n\" .format(meter_name,df_power[\"Local Time\"].iloc[0], df_power[\"Local Time\"].iloc[-1])\n",
    "    \n",
    "    except Exception as e:\n",
    "        print \"\\033[2;31;43m{}\\n\".format(e) \n",
    "    "
   ]
  },
  {
   "cell_type": "code",
   "execution_count": 15,
   "metadata": {
    "ExecuteTime": {
     "end_time": "2018-07-17T14:29:28.447000Z",
     "start_time": "2018-07-17T14:29:28.406000Z"
    },
    "code_folding": [
     0
    ],
    "extensions": {
     "jupyter_dashboards": {
      "version": 1,
      "views": {
       "grid_default": {
        "hidden": true
       },
       "report_default": {}
      }
     }
    }
   },
   "outputs": [],
   "source": [
    "def fetch_1min(meter_name, url):\n",
    "    \n",
    "    # Import API processing packages\n",
    "    import requests # http package\n",
    "    import json # json package\n",
    "    \n",
    "    # Fetch 1min smart meter data from start_date to end_date\n",
    "    try:\n",
    "        url = requests.get(\"http://\"+url+\"/sdata.json?m=f1t\")\n",
    "        dict_1min = json.loads(url.text)\n",
    "        power_mult = dict_1min[\"pmul\"]\n",
    "        list_power = dict_1min[\"power\"]\n",
    "        df_power = pd.DataFrame(list_power)        \n",
    "        \n",
    "        list_dt = []\n",
    "        list_W = []\n",
    "        list_kWh = [] \n",
    "    \n",
    "        # Flatten nested list with z3_datetime and power_watt columns\n",
    "        for _, row in df_power.iterrows():\n",
    "            list_dt += range(row[0],row[0] + 60*(len(row[1])),60)\n",
    "            list_W += row[1]\n",
    "\n",
    "        list_W = pd.Series(list_W)*power_mult     \n",
    "        list_kWh = list_W.cumsum()/(1000*60)\n",
    "\n",
    "        data = {\"date_time\":list_dt,\"W\": list_W, \"kWh\":list_kWh}\n",
    "        df_meter = pd.DataFrame(data)\n",
    "\n",
    "        # Create meter_loaded and local_time columns\n",
    "        df_meter[\"local_time\"] = df_meter[\"date_time\"].apply(lambda x: datetime.strftime(z3_to_local(x),\"%Y-%m-%d %H:%M:%S\"))\n",
    "\n",
    "        # Filter out dates before beginning date of the currne datalog\n",
    "        df_meter = df_meter.loc[df_meter[\"date_time\"] >= start_date].sort_values([\"local_time\"], ascending=[False])\n",
    "        df_meter.rename(columns={\"date_time\":\"Z3 Datetime\", \"local_time\":\"Local Time\", \"W\": \"P(A+B+C)\", \"kWh\":\"kWh(A+B+C)\"}, inplace = True)\n",
    "        df_1min[meter_name] = df_meter\n",
    "        \n",
    "        print \"\\033[2;34;40mSuccessfully fetched {} 1MIN data from {} to {}\\n\".format(meter_name, df_meter[\"Local Time\"].iloc[0], df_meter[\"Local Time\"].iloc[-1])\n",
    "\n",
    "    except Exception as e:\n",
    "        print \"\\033[2;31;43m{}\\n\".format(e) \n"
   ]
  },
  {
   "cell_type": "code",
   "execution_count": 21,
   "metadata": {
    "ExecuteTime": {
     "end_time": "2018-07-17T16:43:57.962000Z",
     "start_time": "2018-07-17T16:43:57.916000Z"
    },
    "code_folding": [
     0
    ],
    "extensions": {
     "jupyter_dashboards": {
      "version": 1,
      "views": {
       "grid_default": {
        "hidden": true
       },
       "report_default": {}
      }
     }
    }
   },
   "outputs": [],
   "source": [
    "def fetch_1hour(meter_name, url):\n",
    "    \n",
    "    # Import API processing packages\n",
    "    import requests # http package\n",
    "    import json # json package\n",
    "    \n",
    "    # Create date subsetting api paramter\n",
    "    t_str = \"&t=\"+str(start_date) if len(str(start_date))!=0 else \"\"\n",
    "\n",
    "    date_str = t_str\n",
    "\n",
    "    # Fetch 1min smart meter data from start_date to end_date\n",
    "    try:\n",
    "        url = requests.get(\"http://\"+url+\"/sdata.json?m=f1h\"+date_str)\n",
    "        dict_1hour = json.loads(url.text)\n",
    "\n",
    "        energy_mult = dict_1hour[\"emul\"]\n",
    "        \n",
    "        list_power = dict_1hour[\"energy\"]\n",
    "        df_power = pd.DataFrame(list_power, columns=[\"date_time\",\"Whr(A+B+C)\"])\n",
    "       \n",
    "        df_power[\"Local Time\"] = df_power[\"date_time\"].apply(lambda x: datetime.strftime(z3_to_local(x),\"%Y-%m-%d %H:%M:%S\"))\n",
    "        df_power[\"kWh(A+B+C)\"] = df_power[\"Whr(A+B+C)\"]*(energy_mult/1000)\n",
    "        df_power[\"Loaded Meter\"] = meter_name\n",
    "        \n",
    "        \n",
    "        df_power.rename(columns={\"date_time\":\"Z3 Datetime\"}, inplace=True)\n",
    "        \n",
    "        df_power = df_power[[\"Z3 Datetime\", \"Local Time\",\"kWh(A+B+C)\"]]\n",
    "        \n",
    "        df_1hour[meter_name] = df_power.loc[df_power[\"Z3 Datetime\"] >= start_date].sort_values([\"Local Time\"], ascending=[False])\n",
    "\n",
    "        print \"\\033[2;34;40mSuccessfully stored {} 1HOUR data from {} to {}\\n\".format(meter_name, df_power[\"Local Time\"].iloc[0], df_power[\"Local Time\"].iloc[-1])    \n",
    "        \n",
    "    except Exception as e:\n",
    "        print \"\\033[2;31;43m{}\\n\".format(e) \n"
   ]
  },
  {
   "cell_type": "markdown",
   "metadata": {
    "extensions": {
     "jupyter_dashboards": {
      "version": 1,
      "views": {
       "grid_default": {
        "col": 6,
        "height": 4,
        "hidden": true,
        "row": 0,
        "width": 4
       },
       "report_default": {}
      }
     }
    }
   },
   "source": [
    "<span style=\"color:Blue; font-family:Times New Roman; font-size:1.2em;\">Data Extraction and Transform using Parallel Processing</span>"
   ]
  },
  {
   "cell_type": "code",
   "execution_count": 17,
   "metadata": {
    "ExecuteTime": {
     "end_time": "2018-07-17T14:48:17.484000Z",
     "start_time": "2018-07-17T14:38:03.361000Z"
    },
    "code_folding": [],
    "extensions": {
     "jupyter_dashboards": {
      "version": 1,
      "views": {
       "grid_default": {
        "col": 6,
        "height": 44,
        "hidden": true,
        "row": 0,
        "width": 4
       },
       "report_default": {}
      }
     }
    }
   },
   "outputs": [
    {
     "name": "stdout",
     "output_type": "stream",
     "text": [
      "\u001b[2;34;40mSuccessfully fetched TX1 Panel A datalog from 2018-05-04 05:02:00 to 2018-07-17 10:39:00\n",
      "\n",
      "\u001b[2;34;40mSuccessfully fetched TX3 Panel B datalog from 2018-05-03 11:33:00 to 2018-07-17 10:39:00\n",
      "\n",
      "\u001b[2;34;40mSuccessfully fetched Incoming Electrical Service datalog from 2018-05-18 01:08:00 to 2018-07-17 10:39:00\n",
      "\n",
      "\u001b[2;34;40mSuccessfully fetched Vehicle Charger 1 datalog from 2018-05-03 10:30:00 to 2018-07-17 10:40:00\n",
      "\n",
      "\u001b[2;34;40mSuccessfully fetched Exterior Lighting datalog from 2018-05-03 06:09:00 to 2018-07-17 10:40:00\n",
      "\n",
      "\u001b[2;34;40mSuccessfully fetched Vehicle Charger 2 datalog from 2018-05-03 04:07:00 to 2018-07-17 10:40:00\n",
      "\n",
      "\u001b[2;34;40mSuccessfully fetched Panel C3 DHW datalog from 2018-05-03 05:13:00 to 2018-07-17 10:41:00\n",
      "\n",
      "\u001b[2;34;40mSuccessfully fetched Panel C4 Pumps datalog from 2018-07-05 09:11:00 to 2018-07-17 10:42:00\n",
      "\n",
      "\u001b[2;34;40mSuccessfully fetched Panel C1 Lighting datalog from 2018-04-30 19:27:00 to 2018-07-17 10:41:00\n",
      "\n",
      "\u001b[2;34;40mSuccessfully fetched Panel C2 Lighting datalog from 2018-04-30 22:14:00 to 2018-07-17 10:41:00\n",
      "\n",
      "\u001b[2;34;40mSuccessfully fetched Natures Classroom datalog from 2018-05-03 13:00:00 to 2018-07-17 10:43:00\n",
      "\n",
      "\u001b[2;34;40mSuccessfully fetched Ceiling Fans datalog from 2018-05-01 04:00:00 to 2018-07-17 10:43:00\n",
      "\n",
      "\u001b[2;34;40mSuccessfully fetched Solar PV System Output datalog from 2018-06-03 09:15:00 to 2018-07-17 10:43:00\n",
      "\n",
      "\u001b[2;34;40mSuccessfully fetched Exhaust Fans datalog from 2018-05-01 03:35:00 to 2018-07-17 10:44:00\n",
      "\n",
      "\u001b[2;34;40mSuccessfully fetched HRV datalog from 2018-05-01 03:22:00 to 2018-07-17 10:44:00\n",
      "\n",
      "\u001b[2;34;40mSuccessfully fetched ERV datalog from 2018-04-30 23:51:00 to 2018-07-17 10:44:00\n",
      "\n",
      "\u001b[2;34;40mSuccessfully fetched FC1 datalog from 2018-04-18 10:09:00 to 2018-07-17 10:45:00\n",
      "\n",
      "\u001b[2;34;40mSuccessfully fetched OU1 datalog from 2018-05-01 00:33:00 to 2018-07-17 10:45:00\n",
      "\n",
      "\u001b[2;34;40mSuccessfully fetched Cistern System CT datalog from 2018-04-27 12:49:00 to 2018-07-17 10:45:00\n",
      "\n",
      "\u001b[2;34;40mSuccessfully fetched Balancing Pump datalog from 2018-05-03 06:33:00 to 2018-07-17 10:46:00\n",
      "\n",
      "\u001b[2;34;40mSuccessfully fetched Biofilter Pump datalog from 2018-05-03 05:13:00 to 2018-07-17 10:46:00\n",
      "\n",
      "\u001b[2;34;40mSuccessfully fetched Duct Heater DH2 ERV datalog from 2018-04-30 21:00:00 to 2018-07-17 10:47:00\n",
      "\n",
      "\u001b[2;34;40mSuccessfully fetched Duct Heater Dh1 HRV datalog from 2018-04-30 21:27:00 to 2018-07-17 10:47:00\n",
      "\n",
      "\u001b[2;34;40mSuccessfully fetched Av Security UV datalog from 2018-05-24 18:03:00 to 2018-07-17 10:48:00\n",
      "\n",
      "\u001b[2;36;40mSmart Meter Comparison is for the period of from 2018-04-18 10:09:00-04:00 to 2018-07-05 09:11:00-04:00\n",
      "\n"
     ]
    }
   ],
   "source": [
    "### Datalog Data Extraction\n",
    "df_datalog = {} # create temporary 1min dataframe dictionary\n",
    "\n",
    "### Execute Parallel Processing Data Extraction using Cuncurrent.futures\n",
    "with ThreadPoolExecutor(max_workers=3) as executor:\n",
    "    args = ((meter_name, url)for meter_name, url in zip(list_meter_name, list_meter_ip))\n",
    "    executor.map(lambda p: fetch_datalog(*p), args)\n",
    "    \n",
    "### Designate Starting and Ending Date for Data Extraction in %Y-%m-%d %H:%M:%S \n",
    "  \n",
    "list_start=[]\n",
    "list_end=[]\n",
    "\n",
    "for key, value in df_datalog.items():\n",
    "    list_start.append(value[\"Z3 Datetime\"].iloc[-1])\n",
    "    list_end.append(value[\"Z3 Datetime\"].iloc[0])\n",
    "    \n",
    "start_date = pd.Series(list_start).min()\n",
    "end_date = pd.Series(list_start).max()\n",
    "\n",
    "print \"\\033[2;36;40mSmart Meter Comparison is for the period of from {} to {}\\n\" .format(z3_to_local(start_date), z3_to_local(end_date))\n"
   ]
  },
  {
   "cell_type": "code",
   "execution_count": 19,
   "metadata": {
    "ExecuteTime": {
     "end_time": "2018-07-17T16:40:33.834000Z",
     "start_time": "2018-07-17T15:35:16.695000Z"
    },
    "code_folding": [],
    "extensions": {
     "jupyter_dashboards": {
      "version": 1,
      "views": {
       "grid_default": {
        "hidden": true
       },
       "report_default": {}
      }
     }
    }
   },
   "outputs": [
    {
     "name": "stdout",
     "output_type": "stream",
     "text": [
      "\u001b[2;34;40mSuccessfully fetched TX1 Panel A 1MIN data from 2018-07-17 11:36:00 to 2018-04-18 10:09:00\n",
      "\n",
      "\u001b[2;34;40mSuccessfully fetched TX3 Panel B 1MIN data from 2018-07-17 11:36:00 to 2018-04-18 10:09:00\n",
      "\n",
      "\u001b[2;34;40mSuccessfully fetched Incoming Electrical Service 1MIN data from 2018-07-17 11:36:00 to 2018-04-18 10:09:00\n",
      "\n",
      "\u001b[2;34;40mSuccessfully fetched Exterior Lighting 1MIN data from 2018-07-17 11:41:00 to 2018-04-18 10:09:00\n",
      "\n",
      "\u001b[2;34;40mSuccessfully fetched Vehicle Charger 1 1MIN data from 2018-07-17 11:41:00 to 2018-04-18 10:09:00\n",
      "\n",
      "\u001b[2;34;40mSuccessfully fetched Panel C1 Lighting 1MIN data from 2018-07-17 11:44:00 to 2018-04-18 10:09:00\n",
      "\n",
      "\u001b[2;34;40mSuccessfully fetched Panel C2 Lighting 1MIN data from 2018-07-17 11:44:00 to 2018-04-18 10:09:00\n",
      "\n",
      "\u001b[2;34;40mSuccessfully fetched Panel C4 Pumps 1MIN data from 2018-07-17 11:48:00 to 2018-04-18 10:09:00\n",
      "\n",
      "\u001b[2;34;40mSuccessfully fetched Panel C3 DHW 1MIN data from 2018-07-17 11:48:00 to 2018-04-18 10:09:00\n",
      "\n",
      "\u001b[2;34;40mSuccessfully fetched Natures Classroom 1MIN data from 2018-07-17 11:51:00 to 2018-04-18 10:09:00\n",
      "\n",
      "\u001b[2;34;40mSuccessfully fetched Solar PV System Output 1MIN data from 2018-07-17 11:51:00 to 2018-04-18 10:09:00\n",
      "\n",
      "\u001b[2;34;40mSuccessfully fetched Exhaust Fans 1MIN data from 2018-07-17 11:55:00 to 2018-04-18 10:09:00\n",
      "\n",
      "\u001b[2;34;40mSuccessfully fetched Ceiling Fans 1MIN data from 2018-07-17 11:55:00 to 2018-04-18 10:09:00\n",
      "\n",
      "\u001b[2;34;40mSuccessfully fetched ERV 1MIN data from 2018-07-17 11:58:00 to 2018-04-18 10:09:00\n",
      "\n",
      "\u001b[2;34;40mSuccessfully fetched HRV 1MIN data from 2018-07-17 11:58:00 to 2018-04-18 10:09:00\n",
      "\n",
      "\u001b[2;34;40mSuccessfully fetched FC1 1MIN data from 2018-07-17 12:03:00 to 2018-04-18 10:09:00\n",
      "\n",
      "\u001b[2;34;40mSuccessfully fetched Cistern System CT 1MIN data from 2018-07-17 12:03:00 to 2018-04-18 10:09:00\n",
      "\n",
      "\u001b[2;34;40mSuccessfully fetched Balancing Pump 1MIN data from 2018-07-17 12:09:00 to 2018-04-18 10:09:00\n",
      "\n",
      "\u001b[2;34;40mSuccessfully fetched OU1 1MIN data from 2018-07-17 12:09:00 to 2018-04-18 10:09:00\n",
      "\n",
      "\u001b[2;34;40mSuccessfully fetched Biofilter Pump 1MIN data from 2018-07-17 12:14:00 to 2018-04-18 10:09:00\n",
      "\n",
      "\u001b[2;34;40mSuccessfully fetched Duct Heater DH2 ERV 1MIN data from 2018-07-17 12:14:00 to 2018-04-18 10:09:00\n",
      "\n",
      "\u001b[2;34;40mSuccessfully fetched Duct Heater Dh1 HRV 1MIN data from 2018-07-17 12:19:00 to 2018-04-18 10:09:00\n",
      "\n",
      "\u001b[2;34;40mSuccessfully fetched Av Security UV 1MIN data from 2018-07-17 12:19:00 to 2018-04-18 10:09:00\n",
      "\n",
      "\u001b[2;34;40mSuccessfully fetched Vehicle Charger 2 1MIN data from 2018-07-17 11:41:00 to 2018-04-18 10:09:00\n",
      "\n",
      "\u001b[2;36;40mSmart Meter Comparison is for the period of from 2018-04-18 10:09:00-04:00 to 2018-04-18 10:09:00-04:00\n",
      "\n"
     ]
    }
   ],
   "source": [
    "### 1MIN Data Extraction\n",
    "df_1min = {} # create temporary 1min dataframe dictionary\n",
    "\n",
    "### Execute Parallel Processing Data Extraction using \n",
    "with ThreadPoolExecutor(max_workers=3) as executor:\n",
    "    args = ((meter_name, url)for meter_name, url in zip(list_meter_name, list_meter_ip))\n",
    "    executor.map(lambda p: fetch_1min(*p), args)\n",
    "    \n",
    "### Designate Starting and Ending Date for Data Extraction in %Y-%m-%d %H:%M:%S \n",
    "  \n",
    "list_start=[]\n",
    "list_end=[]\n",
    "\n",
    "for key, value in df_1min.items():\n",
    "    list_start.append(value[\"Z3 Datetime\"].iloc[-1])\n",
    "    list_end.append(value[\"Z3 Datetime\"].iloc[0])\n",
    "    \n",
    "beg_date = pd.Series(list_start).min()\n",
    "end_date = pd.Series(list_start).max()\n",
    "\n",
    "print \"\\033[2;36;40mSmart Meter Comparison is for the period of from {} to {}\\n\" .format(z3_to_local(beg_date), z3_to_local(end_date))\n"
   ]
  },
  {
   "cell_type": "code",
   "execution_count": 18,
   "metadata": {
    "ExecuteTime": {
     "end_time": "2018-07-17T15:35:05.509000Z",
     "start_time": "2018-07-17T15:34:57.859000Z"
    },
    "code_folding": [],
    "extensions": {
     "jupyter_dashboards": {
      "version": 1,
      "views": {
       "grid_default": {
        "hidden": true
       },
       "report_default": {}
      }
     }
    }
   },
   "outputs": [
    {
     "name": "stdout",
     "output_type": "stream",
     "text": [
      "\u001b[2;34;40mSuccessfully stored TX1 Panel A 1HOUR data from 2018-07-17 11:34:57 to 2018-04-18 11:00:00\n",
      "\u001b[2;34;40mSuccessfully stored Incoming Electrical Service 1HOUR data from 2018-07-17 11:34:57 to 2018-04-18 11:00:00\n",
      "\n",
      "\n",
      "\u001b[2;34;40mSuccessfully stored TX3 Panel B 1HOUR data from 2018-07-17 11:34:57 to 2018-04-18 11:00:00\n",
      "\n",
      "\u001b[2;34;40mSuccessfully stored Vehicle Charger 1 1HOUR data from 2018-07-17 11:34:58 to 2018-04-18 11:00:00\n",
      "\n",
      "\u001b[2;34;40mSuccessfully stored Vehicle Charger 2 1HOUR data from 2018-07-17 11:34:58 to 2018-04-18 11:00:00\n",
      "\n",
      "\u001b[2;34;40mSuccessfully stored Exterior Lighting 1HOUR data from 2018-07-17 11:34:58 to 2018-04-18 11:00:00\n",
      "\n",
      "\u001b[2;34;40mSuccessfully stored Panel C3 DHW 1HOUR data from 2018-07-17 11:34:58 to 2018-04-18 11:00:00\n",
      "\n",
      "\u001b[2;34;40mSuccessfully stored Panel C1 Lighting 1HOUR data from 2018-07-17 11:34:58 to 2018-04-18 11:00:00\n",
      "\n",
      "\u001b[2;34;40mSuccessfully stored Panel C2 Lighting 1HOUR data from 2018-07-17 11:34:58 to 2018-04-18 11:00:00\n",
      "\n",
      "\u001b[2;34;40mSuccessfully stored Natures Classroom 1HOUR data from 2018-07-17 11:35:00 to 2018-04-18 11:00:00\n",
      "\n",
      "\u001b[2;34;40mSuccessfully stored Panel C4 Pumps 1HOUR data from 2018-07-17 11:35:00 to 2018-04-18 11:00:00\n",
      "\n",
      "\u001b[2;34;40mSuccessfully stored Solar PV System Output 1HOUR data from 2018-07-17 11:35:00 to 2018-04-18 11:00:00\n",
      "\n",
      "\u001b[2;34;40mSuccessfully stored Ceiling Fans 1HOUR data from 2018-07-17 11:35:01 to 2018-04-18 11:00:00\n",
      "\n",
      "\u001b[2;34;40mSuccessfully stored Exhaust Fans 1HOUR data from 2018-07-17 11:35:00 to 2018-04-18 11:00:00\n",
      "\n",
      "\u001b[2;34;40mSuccessfully stored HRV 1HOUR data from 2018-07-17 11:35:01 to 2018-04-18 11:00:00\n",
      "\n",
      "\u001b[2;34;40mSuccessfully stored ERV 1HOUR data from 2018-07-17 11:35:01 to 2018-04-18 11:00:00\n",
      "\n",
      "\u001b[2;34;40mSuccessfully stored FC1 1HOUR data from 2018-07-17 11:35:01 to 2018-04-18 11:00:00\n",
      "\n",
      "\u001b[2;34;40mSuccessfully stored Cistern System CT 1HOUR data from 2018-07-17 11:35:01 to 2018-04-18 11:00:00\n",
      "\n",
      "\u001b[2;34;40mSuccessfully stored OU1 1HOUR data from 2018-07-17 11:35:01 to 2018-04-18 11:00:00\n",
      "\n",
      "\u001b[2;34;40mSuccessfully stored Biofilter Pump 1HOUR data from 2018-07-17 11:35:02 to 2018-04-18 11:00:00\n",
      "\n",
      "\u001b[2;34;40mSuccessfully stored Balancing Pump 1HOUR data from 2018-07-17 11:35:01 to 2018-04-18 11:00:00\n",
      "\n",
      "\u001b[2;34;40mSuccessfully stored Duct Heater DH2 ERV 1HOUR data from 2018-07-17 11:35:01 to 2018-04-18 11:00:00\n",
      "\n",
      "\u001b[2;34;40mSuccessfully stored Duct Heater Dh1 HRV 1HOUR data from 2018-07-17 11:35:03 to 2018-04-18 11:00:00\n",
      "\n",
      "\u001b[2;34;40mSuccessfully stored Av Security UV 1HOUR data from 2018-07-17 11:35:02 to 2018-04-18 11:00:00\n",
      "\n",
      "\u001b[2;36;40mSmart Meter Comparison is for the period of from 2018-04-18 11:00:00-04:00 to 2018-04-18 11:00:00-04:00\n",
      "\n"
     ]
    }
   ],
   "source": [
    "### 1HOUR Data Extraction\n",
    "df_1hour = {} # create temporary 1hour dataframe dictionary\n",
    "\n",
    "### Execute Parallel Processing Data Extraction using \n",
    "with ThreadPoolExecutor(max_workers=3) as executor:\n",
    "    args = ((meter_name, url)for meter_name, url in zip(list_meter_name, list_meter_ip))\n",
    "    executor.map(lambda p: fetch_1hour(*p), args)\n",
    "    \n",
    "### Designate Starting and Ending Date for Data Extraction in %Y-%m-%d %H:%M:%S \n",
    "  \n",
    "list_start=[]\n",
    "list_end=[]\n",
    "\n",
    "for key, value in df_1hour.items():\n",
    "    list_start.append(value[\"Z3 Datetime\"].iloc[-1])\n",
    "    list_end.append(value[\"Z3 Datetime\"].iloc[0])\n",
    "    \n",
    "beg_date = pd.Series(list_start).min()\n",
    "end_date = pd.Series(list_start).max()\n",
    "\n",
    "print \"\\033[2;36;40mSmart Meter Comparison is for the period of from {} to {}\\n\" .format(z3_to_local(beg_date), z3_to_local(end_date))\n"
   ]
  },
  {
   "cell_type": "markdown",
   "metadata": {
    "ExecuteTime": {
     "start_time": "2018-07-13T13:59:59.748Z"
    },
    "extensions": {
     "jupyter_dashboards": {
      "version": 1,
      "views": {
       "grid_default": {
        "col": 5,
        "height": 4,
        "hidden": true,
        "row": 0,
        "width": 4
       },
       "report_default": {}
      }
     }
    }
   },
   "source": [
    "<span style=\"color:Blue; font-family:Times New Roman; font-size:1.2em;\">Datalog vs 1MIN</span>"
   ]
  },
  {
   "cell_type": "code",
   "execution_count": 25,
   "metadata": {
    "ExecuteTime": {
     "end_time": "2018-07-17T17:05:17.301000Z",
     "start_time": "2018-07-17T17:05:14.965000Z"
    },
    "code_folding": [],
    "extensions": {
     "jupyter_dashboards": {
      "version": 1,
      "views": {
       "grid_default": {
        "hidden": true
       },
       "report_default": {}
      }
     }
    }
   },
   "outputs": [
    {
     "data": {
      "text/html": [
       "<iframe id=\"igraph\" scrolling=\"no\" style=\"border:none;\" seamless=\"seamless\" src=\"https://plot.ly/~jasonleetoronto2018/140.embed\" height=\"800px\" width=\"800px\"></iframe>"
      ],
      "text/plain": [
       "<plotly.tools.PlotlyDisplay object>"
      ]
     },
     "execution_count": 25,
     "metadata": {},
     "output_type": "execute_result"
    }
   ],
   "source": [
    "### Create Available Data Records, Dat\n",
    "\n",
    "df_temp = {}\n",
    "\n",
    "for meter_name in list_meter_name:\n",
    "    \n",
    "    df_dl = df_datalog[meter_name]\n",
    "    df_dm = df_1min[meter_name]\n",
    "    \n",
    "    beg_date1 = max(df_dl[\"Z3 Datetime\"].iloc[-1], df_dm[\"Z3 Datetime\"].iloc[-1]) \n",
    "    end_date1 = min(df_dl[\"Z3 Datetime\"].iloc[0], df_dm[\"Z3 Datetime\"].iloc[0])\n",
    "    \n",
    "    obs_dl = len(df_dl[(df_dl[\"Z3 Datetime\"]>=beg_date1) & (df_dl[\"Z3 Datetime\"]<=end_date1)])\n",
    "    obs_mt = len(df_dm[(df_dm[\"Z3 Datetime\"]>=beg_date1) & (df_dm[\"Z3 Datetime\"]<=end_date1)])\n",
    "    \n",
    "    df_temp[meter_name]=[meter_name, datetime.strftime(z3_to_local(beg_date1),\"%Y-%m-%d %H:%M:%S\"), datetime.strftime(z3_to_local(end_date1),\"%Y-%m-%d %H:%M:%S\"),(end_date1 - beg_date1)/60 + 1, obs_dl, obs_mt]\n",
    " \n",
    "    df_datalog_1hour = pd.DataFrame.from_dict(df_temp, orient='index').rename(columns={0:\"Loaded Meter\" ,1:\"Begin Date\", 2:\"End Date\",3:\"Available Minutes\", 4:\"Datalog Minutes\", 5:\"1MIN Minutes\"})    \n",
    "\n",
    "table = ff.create_table(df_datalog_1hour)\n",
    "table.layout.width=800\n",
    "py.iplot(table)\n"
   ]
  },
  {
   "cell_type": "markdown",
   "metadata": {
    "ExecuteTime": {
     "end_time": "2018-07-13T14:59:52.395000Z",
     "start_time": "2018-07-13T14:59:31.834000Z"
    },
    "extensions": {
     "jupyter_dashboards": {
      "version": 1,
      "views": {
       "grid_default": {
        "col": 5,
        "height": 4,
        "hidden": true,
        "row": 0,
        "width": 4
       },
       "report_default": {}
      }
     }
    }
   },
   "source": [
    "<span style=\"color:Blue; font-family:Times New Roman; font-size:1.2em;\">Datalog vs 1HOUR</span>"
   ]
  },
  {
   "cell_type": "code",
   "execution_count": 22,
   "metadata": {
    "ExecuteTime": {
     "end_time": "2018-07-17T16:44:50.634000Z",
     "start_time": "2018-07-17T16:44:06.251000Z"
    },
    "code_folding": [
     2
    ],
    "extensions": {
     "jupyter_dashboards": {
      "version": 1,
      "views": {
       "grid_default": {
        "col": 3,
        "height": 28,
        "hidden": false,
        "row": 0,
        "width": 9
       },
       "report_default": {}
      }
     }
    }
   },
   "outputs": [
    {
     "data": {
      "text/html": [
       "<iframe id=\"igraph\" scrolling=\"no\" style=\"border:none;\" seamless=\"seamless\" src=\"https://plot.ly/~jasonleetoronto2018/134.embed\" height=\"800px\" width=\"800px\"></iframe>"
      ],
      "text/plain": [
       "<plotly.tools.PlotlyDisplay object>"
      ]
     },
     "execution_count": 22,
     "metadata": {},
     "output_type": "execute_result"
    }
   ],
   "source": [
    "df_temp = {}\n",
    "\n",
    "for meter_name in list_meter_name:\n",
    "    ### Filter only hourly data from datalog\n",
    "\n",
    "    df_dl = df_datalog[meter_name]\n",
    "    Filter=pd.to_datetime(df_dl[\"Local Time\"], format=\"%Y-%m-%d %H:%M:%S\").dt.minute==0 ### series quantities access through .dt accessor\n",
    "    df_dl = df_dl[Filter]\n",
    "    \n",
    "    ### hourly\n",
    "    df_hr = df_1hour[meter_name]\n",
    "    beg_date1 = max(df_dl[\"Z3 Datetime\"].iloc[-1], df_hr[\"Z3 Datetime\"].iloc[-1]) \n",
    "    end_date1 = min(df_dl[\"Z3 Datetime\"].iloc[0], df_hr[\"Z3 Datetime\"].iloc[0])\n",
    "    \n",
    "    obs_dl = len(df_dl[(df_dl[\"Z3 Datetime\"]>=beg_date1) & (df_dl[\"Z3 Datetime\"]<=end_date1)])\n",
    "    obs_hr = len(df_hr[(df_hr[\"Z3 Datetime\"]>=beg_date1) & (df_hr[\"Z3 Datetime\"]<=end_date1)])\n",
    "    \n",
    "    df_temp[meter_name]=[meter_name, datetime.strftime(z3_to_local(beg_date1),\"%Y-%m-%d %H:%M:%S\"), datetime.strftime(z3_to_local(end_date1),\"%Y-%m-%d %H:%M:%S\"),(end_date1 - beg_date1)/(60*60)+1, obs_dl, obs_hr]\n",
    "\n",
    "    \n",
    "df_datalog_1hour = pd.DataFrame.from_dict(df_temp, orient='index').rename(columns={0:\"Loaded Meter\" ,1:\"Begin Date\", 2:\"End Date\",3:\"Available Hours\", 4:\"Datalog Hours\", 5:\"1HOUR Hours\"})    \n",
    "\n",
    "table = ff.create_table(df_datalog_1hour)\n",
    "table.layout.width=800\n",
    "py.iplot(table)    \n"
   ]
  },
  {
   "cell_type": "code",
   "execution_count": 1,
   "metadata": {
    "ExecuteTime": {
     "end_time": "2018-07-19T12:59:03.400000Z",
     "start_time": "2018-07-19T12:59:03.367000Z"
    },
    "extensions": {
     "jupyter_dashboards": {
      "version": 1,
      "views": {
       "grid_default": {
        "hidden": true
       },
       "report_default": {}
      }
     }
    }
   },
   "outputs": [],
   "source": [
    "\n",
    "from __future__ import print_function\n",
    "from ipywidgets import interact, interactive, fixed, interact_manual\n",
    "import ipywidgets as widgets\n",
    "from __future__ import print_function\n",
    "from ipywidgets import interact, interactive, fixed, interact_manual\n",
    "import ipywidgets as widgets"
   ]
  },
  {
   "cell_type": "code",
   "execution_count": 2,
   "metadata": {
    "ExecuteTime": {
     "end_time": "2018-07-19T12:59:11.314000Z",
     "start_time": "2018-07-19T12:59:11.309000Z"
    }
   },
   "outputs": [],
   "source": [
    "\n",
    "def f(x):\n",
    "    return x"
   ]
  },
  {
   "cell_type": "code",
   "execution_count": 3,
   "metadata": {
    "ExecuteTime": {
     "end_time": "2018-07-19T12:59:19.362000Z",
     "start_time": "2018-07-19T12:59:19.318000Z"
    }
   },
   "outputs": [
    {
     "data": {
      "text/plain": [
       "10"
      ]
     },
     "metadata": {},
     "output_type": "display_data"
    }
   ],
   "source": [
    "interact(f, x=10);"
   ]
  },
  {
   "cell_type": "code",
   "execution_count": null,
   "metadata": {},
   "outputs": [],
   "source": []
  }
 ],
 "metadata": {
  "extensions": {
   "jupyter_dashboards": {
    "activeView": "grid_default",
    "version": 1,
    "views": {
     "grid_default": {
      "cellMargin": 10,
      "defaultCellHeight": 20,
      "maxColumns": 12,
      "name": "grid",
      "type": "grid"
     },
     "report_default": {
      "name": "report",
      "type": "report"
     }
    }
   }
  },
  "kernelspec": {
   "display_name": "Python 2",
   "language": "python",
   "name": "python2"
  },
  "language_info": {
   "codemirror_mode": {
    "name": "ipython",
    "version": 2
   },
   "file_extension": ".py",
   "mimetype": "text/x-python",
   "name": "python",
   "nbconvert_exporter": "python",
   "pygments_lexer": "ipython2",
   "version": "2.7.15"
  }
 },
 "nbformat": 4,
 "nbformat_minor": 2
}
