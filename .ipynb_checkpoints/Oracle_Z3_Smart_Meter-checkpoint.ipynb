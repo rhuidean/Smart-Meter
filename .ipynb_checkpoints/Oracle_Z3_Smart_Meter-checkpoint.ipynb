{
 "cells": [
  {
   "cell_type": "markdown",
   "metadata": {
    "extensions": {
     "jupyter_dashboards": {
      "version": 1,
      "views": {
       "grid_default": {
        "col": 0,
        "height": 4,
        "hidden": true,
        "row": 38,
        "width": 4
       },
       "report_default": {}
      }
     }
    }
   },
   "source": [
    "<span style=\"color:Blue; font-family:Times New Roman; font-size:1.2em;\">Import Required Packages</span>"
   ]
  },
  {
   "cell_type": "code",
   "execution_count": 1,
   "metadata": {
    "ExecuteTime": {
     "end_time": "2018-07-15T11:57:25.204663Z",
     "start_time": "2018-07-15T11:57:24.896756Z"
    },
    "code_folding": [
     0
    ],
    "extensions": {
     "jupyter_dashboards": {
      "version": 1,
      "views": {
       "grid_default": {
        "hidden": true
       },
       "report_default": {}
      }
     }
    }
   },
   "outputs": [
    {
     "ename": "ModuleNotFoundError",
     "evalue": "No module named 'pandas'",
     "output_type": "error",
     "traceback": [
      "\u001b[1;31m---------------------------------------------------------------------------\u001b[0m",
      "\u001b[1;31mModuleNotFoundError\u001b[0m                       Traceback (most recent call last)",
      "\u001b[1;32m<ipython-input-1-646d468c1d73>\u001b[0m in \u001b[0;36m<module>\u001b[1;34m()\u001b[0m\n\u001b[0;32m      4\u001b[0m \u001b[1;32mimport\u001b[0m \u001b[0mjson\u001b[0m\u001b[1;33m,\u001b[0m \u001b[0mpprint\u001b[0m \u001b[1;31m# json\u001b[0m\u001b[1;33m\u001b[0m\u001b[0m\n\u001b[0;32m      5\u001b[0m \u001b[1;32mimport\u001b[0m \u001b[0mlogging\u001b[0m\u001b[1;33m,\u001b[0m \u001b[0mtimeit\u001b[0m \u001b[1;31m# run time\u001b[0m\u001b[1;33m\u001b[0m\u001b[0m\n\u001b[1;32m----> 6\u001b[1;33m \u001b[1;32mimport\u001b[0m \u001b[0mpandas\u001b[0m \u001b[1;32mas\u001b[0m \u001b[0mpd\u001b[0m\u001b[1;33m\u001b[0m\u001b[0m\n\u001b[0m\u001b[0;32m      7\u001b[0m \u001b[1;32mimport\u001b[0m \u001b[0mnumpy\u001b[0m \u001b[1;32mas\u001b[0m \u001b[0mnp\u001b[0m\u001b[1;33m\u001b[0m\u001b[0m\n\u001b[0;32m      8\u001b[0m \u001b[1;33m\u001b[0m\u001b[0m\n",
      "\u001b[1;31mModuleNotFoundError\u001b[0m: No module named 'pandas'"
     ]
    }
   ],
   "source": [
    "### Data Processing Packages\n",
    "import requests # web api \n",
    "import platform, os, sys # system, file,and directory \n",
    "import json, pprint # json \n",
    "import logging, timeit # run time \n",
    "import pandas as pd \n",
    "import numpy as np\n",
    "\n",
    "### Datetime Processing Packages\n",
    "from datetime import datetime # datetime \n",
    "import time, dateutil, pytz, calendar # UNIX Time\n",
    "from tzlocal import get_localzone # timezone \n",
    "\n",
    "### Dashboard Packages\n",
    "import plotly\n",
    "import plotly.plotly as py\n",
    "import plotly.figure_factory as ff\n",
    "from plotly.offline import download_plotlyjs, init_notebook_mode, plot, iplot\n",
    "\n",
    "plotly.tools.set_credentials_file(username='jasonleetoronto2018', api_key='nj442HUT4BlVXOwawT1l')\n",
    "init_notebook_mode(connected=True)\n",
    "\n",
    "### Parallel Processing Packages\n",
    "from concurrent.futures import ThreadPoolExecutor\n",
    "from concurrent.futures import as_completed"
   ]
  },
  {
   "cell_type": "markdown",
   "metadata": {
    "ExecuteTime": {
     "end_time": "2018-07-11T18:43:53.606000Z",
     "start_time": "2018-07-11T18:43:53.600000Z"
    },
    "extensions": {
     "jupyter_dashboards": {
      "version": 1,
      "views": {
       "grid_default": {
        "col": 0,
        "height": 4,
        "hidden": true,
        "row": 28,
        "width": 4
       },
       "report_default": {}
      }
     }
    }
   },
   "source": [
    "<span style=\"color:Blue; font-family:Times New Roman; font-size:1.2em;\">Check Current Working Directory</span>"
   ]
  },
  {
   "cell_type": "code",
   "execution_count": 2,
   "metadata": {
    "ExecuteTime": {
     "end_time": "2018-07-13T17:59:51.629000Z",
     "start_time": "2018-07-13T17:59:51.614000Z"
    },
    "extensions": {
     "jupyter_dashboards": {
      "version": 1,
      "views": {
       "grid_default": {
        "hidden": true
       },
       "report_default": {}
      }
     }
    }
   },
   "outputs": [
    {
     "name": "stdout",
     "output_type": "stream",
     "text": [
      "\u001b[2;37;40mCurrent file directory is in YRK59206 computer and file folder C:\\Users\\leejas\\Desktop\\Summer Project\n",
      "\n",
      "C:\\Users\\leejas\\Desktop\\Summer Project\n"
     ]
    }
   ],
   "source": [
    "print (\"\\033[2;37;40mCurrent file directory is in {} computer and file folder {}\\n\" .format(platform.uname()[1], os.getcwd()))\n",
    "os.chdir(\"C:\\\\Users\\\\leejas\\\\Desktop\\\\Summer Project\")\n",
    "print (os.getcwd())"
   ]
  },
  {
   "cell_type": "markdown",
   "metadata": {
    "extensions": {
     "jupyter_dashboards": {
      "version": 1,
      "views": {
       "grid_default": {
        "hidden": true
       },
       "report_default": {}
      }
     }
    }
   },
   "source": [
    "<span style=\"color:Blue; font-family:Times New Roman; font-size:1.2em;\">Read Smart Meter Information</span>"
   ]
  },
  {
   "cell_type": "code",
   "execution_count": 8,
   "metadata": {
    "ExecuteTime": {
     "end_time": "2018-07-13T18:00:42.821000Z",
     "start_time": "2018-07-13T18:00:40.495000Z"
    },
    "code_folding": [
     0,
     7
    ],
    "extensions": {
     "jupyter_dashboards": {
      "version": 1,
      "views": {
       "grid_default": {
        "col": 0,
        "height": 28,
        "hidden": false,
        "row": 0,
        "width": 5
       },
       "report_default": {}
      }
     }
    }
   },
   "outputs": [
    {
     "data": {
      "text/html": [
       "<iframe id=\"igraph\" scrolling=\"no\" style=\"border:none;\" seamless=\"seamless\" src=\"https://plot.ly/~jasonleetoronto2018/62.embed\" height=\"800px\" width=\"400px\"></iframe>"
      ],
      "text/plain": [
       "<plotly.tools.PlotlyDisplay object>"
      ]
     },
     "execution_count": 8,
     "metadata": {},
     "output_type": "execute_result"
    }
   ],
   "source": [
    "def trimAllColumns(df):\n",
    "    \"\"\"\n",
    "    Trim whitespace from ends of each value across all series in dataframe\n",
    "    \"\"\"\n",
    "    trimStrings = lambda x: x.strip() if type(x) is str else x\n",
    "    return df.applymap(trimStrings)\n",
    "\n",
    "def read_meter_info():\n",
    "    ### Create function for reading in smart meter ip address\n",
    "    \n",
    "    df_meter_info = pd.read_excel(\"meter_ip_list.xlsx\")\n",
    "    df_meter_info.head(5)\n",
    "\n",
    "    for column in df_meter_info.columns:\n",
    "        df_meter_info[column]=df_meter_info[column].astype(str)\n",
    "        \n",
    "    trimAllColumns(df_meter_info)    \n",
    "    \n",
    "    return df_meter_info\n",
    "\n",
    "df_meter_info = read_meter_info()\n",
    "df_meter_info.rename(columns={'IP Address':'IP_Address'}, inplace=True) # Remove space in column name\n",
    "df_meter_info[\"Real_Time_Visualization\"]=df_meter_info['IP_Address'].apply(lambda x: '<a href=\"http://'+x+'/istat.html\">'+x+'</a>')\n",
    "\n",
    "list_meter_name = list(df_meter_info[\"Meter\"]) \n",
    "list_meter_ip = list(df_meter_info[\"IP_Address\"]) \n",
    "\n",
    "table = ff.create_table(df_meter_info[[\"Meter\",\"Real_Time_Visualization\"]])\n",
    "table.layout.width=400\n",
    "py.iplot(table)\n"
   ]
  },
  {
   "cell_type": "markdown",
   "metadata": {
    "ExecuteTime": {
     "end_time": "2018-07-09T17:33:11.715000Z",
     "start_time": "2018-07-09T17:33:11.661000Z"
    },
    "extensions": {
     "jupyter_dashboards": {
      "version": 1,
      "views": {
       "grid_default": {
        "hidden": true
       },
       "report_default": {}
      }
     }
    }
   },
   "source": [
    "<span style=\"color:Blue; font-family:Times New Roman; font-size:1.2em;\">Define Required Time Module</span>"
   ]
  },
  {
   "cell_type": "code",
   "execution_count": 3,
   "metadata": {
    "ExecuteTime": {
     "end_time": "2018-07-13T17:59:52.123000Z",
     "start_time": "2018-07-13T17:59:51.634000Z"
    },
    "code_folding": [
     0,
     26,
     44,
     53,
     65,
     68,
     71
    ],
    "extensions": {
     "jupyter_dashboards": {
      "version": 1,
      "views": {
       "grid_default": {
        "hidden": true
       },
       "report_default": {}
      }
     }
    }
   },
   "outputs": [],
   "source": [
    "def z3_to_posix(z3_date):\n",
    "    \n",
    "    ''' Changes epoch base z3_date(int)from 2010/01/01(Z3 Epoch time)\\\n",
    "    to 1970/01/01 (posix/UNIX Epoch time) \n",
    "    '''\n",
    "    \n",
    "    z3_epoch_base = \"2010-01-01 00:00:00\"    \n",
    "    posix_epoch_base = \"1970-01-01 00:00:00\"\n",
    "    \n",
    "    time_format = \"%Y-%m-%d %H:%M:%S\"\n",
    "    \n",
    "    # Calculate time delta between z3_epoch_base_date & posix_epoch_base_date\n",
    "    start_date = datetime.strptime(posix_epoch_base, time_format) # convert string into datetime\n",
    "    end_date = datetime.strptime(z3_epoch_base, time_format) # convert string into datetime\n",
    "    \n",
    "    diff = end_date - start_date\n",
    "    \n",
    "    '''\n",
    "    diff.days \n",
    "    diff.seconds//3600 \n",
    "    diff.seconds % 3600/60\n",
    "    diff.seconds % 3600 % 3600\n",
    "    \n",
    "    '''\n",
    "    return z3_date + diff.total_seconds()\n",
    "\n",
    "def posix_to_z3(posix_date):\n",
    "    \n",
    "    # Changes epoch base posix_date(int)from to 2010/01/01(Z3 Epoch time)\n",
    "\n",
    "    \n",
    "    z3_epoch_base = \"2010-01-01 00:00:00\"    \n",
    "    posix_epoch_base = \"1970-01-01 00:00:00\"\n",
    "    \n",
    "    time_format = \"%Y-%m-%d %H:%M:%S\"\n",
    "    \n",
    "    # Calculate time delta between z3_epoch_base_date & posix_epoch_base_date\n",
    "    start_date = datetime.strptime(posix_epoch_base, time_format) # convert string into datetime\n",
    "    end_date = datetime.strptime(z3_epoch_base, time_format) # convert string into datetime\n",
    "    \n",
    "    diff = end_date - start_date\n",
    "    \n",
    "    return posix_date - diff.total_seconds()\n",
    "\n",
    "def posix_to_local(utc_date):\n",
    "    # Create a function for converting POSIX time to UTC time to local timezone time\n",
    "        \n",
    "    local_tz = get_localzone() # get local timezone\n",
    "    utc_time = datetime.utcfromtimestamp(utc_date) # UTC Time\n",
    "    local_time = utc_time.replace(tzinfo=pytz.utc).astimezone(local_tz) # Local Timezone Time\n",
    "    \n",
    "    return local_time\n",
    "\n",
    "def local_to_posix(local_date):\n",
    "    # Create a function for converting local time zone time to posix time\n",
    "    \n",
    "    local_tz = pytz.timezone(str(get_localzone())) # get local time zone & create pytz tz timezone object\n",
    "    time_format = \"%Y-%m-%d %H:%M:%S\"\n",
    "    \n",
    "    local_date = datetime.strptime(local_date, time_format)\n",
    "    local_date = local_tz.localize(local_date)\n",
    "    local_date = local_date.astimezone(dateutil.tz.tzutc()).timetuple()\n",
    "    \n",
    "    return calendar.timegm(local_date)\n",
    "\n",
    "def z3_to_local(z3_date):\n",
    "    return posix_to_local(z3_to_posix(z3_date))\n",
    "\n",
    "def local_to_z3(local_date):\n",
    "    return posix_to_z3(local_to_posix(local_date))\n",
    "\n",
    "def settlement_day_of_month(mydate, end=1):\n",
    "    ### Create a function for calculating the last day of the month\n",
    "    \n",
    "    time_format = \"%Y-%m-%d\"\n",
    "    mydate=datetime.strptime(mydate, time_format)\n",
    "    \n",
    "    if end==0:\n",
    "        mydate=datetime(mydate.year,mydate.month,1)\n",
    "    \n",
    "    else:\n",
    "        mydate=datetime(mydate.year,mydate.month,1)+dateutil.relativedelta.relativedelta(months=1,days=-1)\n",
    "    \n",
    "    return mydate"
   ]
  },
  {
   "cell_type": "markdown",
   "metadata": {
    "ExecuteTime": {
     "end_time": "2018-07-11T18:45:57.899000Z",
     "start_time": "2018-07-11T18:45:57.892000Z"
    },
    "extensions": {
     "jupyter_dashboards": {
      "version": 1,
      "views": {
       "grid_default": {
        "hidden": true
       },
       "report_default": {}
      }
     }
    }
   },
   "source": [
    "<span style=\"color:Blue; font-family:Times New Roman; font-size:1.2em;\">Create ETL Module</span>"
   ]
  },
  {
   "cell_type": "code",
   "execution_count": 84,
   "metadata": {
    "ExecuteTime": {
     "end_time": "2018-07-13T19:49:31.329000Z",
     "start_time": "2018-07-13T19:49:31.282000Z"
    },
    "code_folding": [],
    "extensions": {
     "jupyter_dashboards": {
      "version": 1,
      "views": {
       "grid_default": {
        "hidden": true
       },
       "report_default": {}
      }
     }
    }
   },
   "outputs": [
    {
     "name": "stdout",
     "output_type": "stream",
     "text": [
      "        Z3 Datetime           Local Time  P(A+B+C)  kWh(A+B+C)\n",
      "0         263030820  2018-05-03 04:07:00  0.451803  481.421255\n",
      "1         263030880  2018-05-03 04:08:00  0.301202  481.421255\n",
      "2         263030940  2018-05-03 04:09:00  0.401603  481.421255\n",
      "3         263031000  2018-05-03 04:10:00  0.351403  481.421255\n",
      "4         263031060  2018-05-03 04:11:00  0.301202  481.421255\n",
      "5         263031120  2018-05-03 04:12:00  0.376503  481.421255\n",
      "6         263031180  2018-05-03 04:13:00  0.476903  481.421255\n",
      "7         263031240  2018-05-03 04:14:00  0.301202  481.421255\n",
      "8         263031300  2018-05-03 04:15:00  0.351403  481.421255\n",
      "9         263031360  2018-05-03 04:16:00  0.376503  481.421255\n",
      "10        263031420  2018-05-03 04:17:00  0.426703  481.421255\n",
      "11        263031480  2018-05-03 04:18:00  0.251002  481.421255\n",
      "12        263031540  2018-05-03 04:19:00  0.351403  481.421255\n",
      "13        263031600  2018-05-03 04:20:00  0.577304  481.421255\n",
      "14        263031660  2018-05-03 04:21:00  0.326302  481.421255\n",
      "15        263031720  2018-05-03 04:22:00  0.376503  481.421255\n",
      "16        263031780  2018-05-03 04:23:00  0.401603  481.421255\n",
      "17        263031840  2018-05-03 04:24:00  0.326302  481.421255\n",
      "18        263031900  2018-05-03 04:25:00  0.451803  481.421255\n",
      "19        263031960  2018-05-03 04:26:00  0.326302  481.421255\n",
      "20        263032020  2018-05-03 04:27:00  0.301202  481.421255\n",
      "21        263032080  2018-05-03 04:28:00  0.251002  481.421255\n",
      "22        263032140  2018-05-03 04:29:00  0.426703  481.421255\n",
      "23        263032200  2018-05-03 04:30:00  0.426703  481.421255\n",
      "24        263032260  2018-05-03 04:31:00  0.376503  481.421255\n",
      "25        263032320  2018-05-03 04:32:00  0.451803  481.421255\n",
      "26        263032380  2018-05-03 04:33:00  0.426703  481.421255\n",
      "27        263032440  2018-05-03 04:34:00  0.326302  481.421255\n",
      "28        263032500  2018-05-03 04:35:00  0.376503  481.421255\n",
      "29        263032560  2018-05-03 04:36:00  0.301202  481.421255\n",
      "...             ...                  ...       ...         ...\n",
      "100225    269205300  2018-07-13 15:15:00  0.476903  551.211734\n",
      "100226    269205360  2018-07-13 15:16:00  0.376503  551.211734\n",
      "100227    269205420  2018-07-13 15:17:00  0.577304  551.211734\n",
      "100228    269205480  2018-07-13 15:18:00  0.577304  551.211734\n",
      "100229    269205540  2018-07-13 15:19:00  0.326302  551.211734\n",
      "100230    269205600  2018-07-13 15:20:00  0.376503  551.211734\n",
      "100231    269205660  2018-07-13 15:21:00  0.426703  551.211734\n",
      "100232    269205720  2018-07-13 15:22:00  0.326302  551.211734\n",
      "100233    269205780  2018-07-13 15:23:00  0.276102  551.211734\n",
      "100234    269205840  2018-07-13 15:24:00  0.401603  551.211734\n",
      "100235    269205900  2018-07-13 15:25:00  0.251002  551.211734\n",
      "100236    269205960  2018-07-13 15:26:00  0.376503  551.211734\n",
      "100237    269206020  2018-07-13 15:27:00  0.426703  551.211734\n",
      "100238    269206080  2018-07-13 15:28:00  0.426703  551.211734\n",
      "100239    269206140  2018-07-13 15:29:00  0.426703  551.211734\n",
      "100240    269206200  2018-07-13 15:30:00  0.376503  551.211734\n",
      "100241    269206260  2018-07-13 15:31:00  0.326302  551.211734\n",
      "100242    269206320  2018-07-13 15:32:00  0.326302  551.211734\n",
      "100243    269206380  2018-07-13 15:33:00  0.426703  551.211734\n",
      "100244    269206440  2018-07-13 15:34:00  0.451803  551.211734\n",
      "100245    269206500  2018-07-13 15:35:00  0.276102  551.211734\n",
      "100246    269206560  2018-07-13 15:36:00  0.426703  551.211734\n",
      "100247    269206620  2018-07-13 15:37:00  0.502004  551.211734\n",
      "100248    269206680  2018-07-13 15:38:00  0.301202  551.211734\n",
      "100249    269206740  2018-07-13 15:39:00  0.301202  551.211734\n",
      "100250    269206800  2018-07-13 15:40:00  0.276102  551.211734\n",
      "100251    269206860  2018-07-13 15:41:00  0.426703  551.211734\n",
      "100252    269206920  2018-07-13 15:42:00  0.376503  551.211734\n",
      "100253    269206980  2018-07-13 15:43:00  0.451803  551.211734\n",
      "100254    269207040  2018-07-13 15:44:00  0.401603  551.211734\n",
      "\n",
      "[100255 rows x 4 columns]\n",
      "\u001b[2;34;40mSuccessfully fetched Vehicle Charger 2 datalog from 2018-05-03 04:07:00 to 2018-07-13 15:44:00\n",
      "\n"
     ]
    }
   ],
   "source": [
    "def fetch_datalog(meter_name, url):\n",
    "    # Import API processing packages\n",
    "    import requests # http package\n",
    "    import json # json package\n",
    "    \n",
    "    # Fetch datalog smart meter data \n",
    "    try:\n",
    "        url = requests.get(\"http://\"+url+\"/datalog.json?hdr=1\")\n",
    "        dict_datalog = json.loads(url.text)\n",
    "        power_mult = dict_datalog[\"scale\"][4]\n",
    "        energy_mult = dict_datalog[\"scale\"][6]\n",
    "        column_names = dict_datalog[\"names\"]\n",
    "        list_power = dict_datalog[\"logdata\"]\n",
    "        df_power = pd.DataFrame(list_power,columns=column_names)\n",
    "        \n",
    "        df_power[\"Local Time\"] = df_power[\"time\"].apply(lambda x: datetime.strftime(z3_to_local(x),\"%Y-%m-%d %H:%M:%S\"))\n",
    "        df_power[\"P(A+B+C)\"] = df_power[\"P(A+B+C)\"]*power_mult\n",
    "        df_power[\"kWh(A+B+C)\"] = df_power[\"WHr(A+B+C)\"]*(energy_mult/1000)\n",
    "        \n",
    "        df_power.rename(columns={\"time\":\"Z3 Datetime\"}, inplace=True)\n",
    "        df_datalog[meter_name]=df_power.sort_values([\"Local Time\"], ascending=[False])\n",
    "        print \"\\033[2;34;40mSuccessfully fetched {} datalog from {} to {}\\n\" .format(meter_name,df_power[\"Local Time\"].iloc[0], df_power[\"Local Time\"].iloc[-1])\n",
    "    \n",
    "    except Exception as e:\n",
    "        print \"\\033[2;31;43m{}\\n\".format(e) \n",
    "    "
   ]
  },
  {
   "cell_type": "code",
   "execution_count": 30,
   "metadata": {
    "ExecuteTime": {
     "end_time": "2018-07-13T18:59:43.481000Z",
     "start_time": "2018-07-13T18:59:43.403000Z"
    },
    "code_folding": [],
    "extensions": {
     "jupyter_dashboards": {
      "version": 1,
      "views": {
       "grid_default": {
        "hidden": true
       },
       "report_default": {}
      }
     }
    }
   },
   "outputs": [],
   "source": [
    "def fetch_1min(meter_name, url):\n",
    "    \n",
    "    # Import API processing packages\n",
    "    import requests # http package\n",
    "    import json # json package\n",
    "    \n",
    "    # Fetch 1min smart meter data from start_date to end_date\n",
    "    try:\n",
    "        url = requests.get(\"http://\"+url+\"/sdata.json?m=f1t\")\n",
    "        dict_1min = json.loads(url.text)\n",
    "        power_mult = dict_1min[\"pmul\"]\n",
    "        list_power = dict_1min[\"power\"]\n",
    "        df_power = pd.DataFrame(list_power)\n",
    "\n",
    "        \n",
    "        \n",
    "        list_dt = []\n",
    "        list_W = []\n",
    "        list_kWh = [] \n",
    "    \n",
    "        # Flatten nested list with z3_datetime and power_watt columns\n",
    "        for _, row in df_power.iterrows():\n",
    "            list_dt += range(row[0],row[0] + 60*(len(row[1])),60)\n",
    "            list_W += row[1]\n",
    "\n",
    "        list_W = pd.Series(list_W)*power_mult     \n",
    "        list_kWh = list_W.cumsum()/(1000*60)\n",
    "\n",
    "        data = {\"date_time\":list_dt,\"W\": list_W, \"kWh\":list_kWh}\n",
    "        df_meter = pd.DataFrame(data)\n",
    "\n",
    "        # Create meter_loaded and local_time columns\n",
    "        df_meter[\"local_time\"] = df_meter[\"date_time\"].apply(lambda x: datetime.strftime(z3_to_local(x),\"%Y-%m-%d %H:%M:%S\"))\n",
    "\n",
    "        df_meter = df_meter.loc[df_meter[\"local_time\"] >= start_date]\n",
    "        df_1min[meter_name] = df_meter.rename(columns={\"date_time\":\"Z3 Datetime\", \"local_time\":\"Local Time\", \"W\": \"P(A+B+C)\", \"kWh\":\"kWh(A+B+C)\"}, inplace = True)\n",
    "        \n",
    "        \n",
    "        print \"\\033[2;36;40mSuccessfully fetched {} 1MIN data from {} to {}\\n\".format(meter_name, df_meter[\"Local Time\"].iloc[0], df_meter[\"Local Time\"].iloc[-1])\n",
    "\n",
    "    except Exception as e:\n",
    "        print \"\\033[2;31;43m{}\\n\".format(e) \n",
    "    "
   ]
  },
  {
   "cell_type": "code",
   "execution_count": 66,
   "metadata": {
    "ExecuteTime": {
     "end_time": "2018-07-13T19:25:08.353000Z",
     "start_time": "2018-07-13T19:25:08.255000Z"
    },
    "code_folding": [
     0
    ],
    "extensions": {
     "jupyter_dashboards": {
      "version": 1,
      "views": {
       "grid_default": {
        "hidden": true
       },
       "report_default": {}
      }
     }
    }
   },
   "outputs": [],
   "source": [
    "def fetch_1hour(meter_name, url):\n",
    "    \n",
    "    # Import API processing packages\n",
    "    import requests # http package\n",
    "    import json # json package\n",
    "    \n",
    "    # Create date subsetting api paramter\n",
    "    t_str = \"&t=\"+str(start_date) if len(str(start_date))!=0 else \"\"\n",
    "\n",
    "    date_str = t_str\n",
    "\n",
    "    # Fetch 1min smart meter data from start_date to end_date\n",
    "    try:\n",
    "        url = requests.get(\"http://\"+url+\"/sdata.json?m=f1h\"+date_str)\n",
    "        dict_1hour = json.loads(url.text)\n",
    "\n",
    "        energy_mult = dict_1hour[\"emul\"]\n",
    "        \n",
    "        list_power = dict_1hour[\"energy\"]\n",
    "        df_power = pd.DataFrame(list_power, columns=[\"date_time\",\"Whr(A+B+C)\"])\n",
    "       \n",
    "        df_power[\"Local Time\"] = df_power[\"date_time\"].apply(lambda x: datetime.strftime(z3_to_local(x),\"%Y-%m-%d %H:%M:%S\"))\n",
    "        df_power[\"kWh(A+B+C)\"] = df_power[\"Whr(A+B+C)\"]*(energy_mult/1000)\n",
    "        df_power[\"Loaded Meter\"] = meter_name\n",
    "        \n",
    "        \n",
    "        df_power.rename(columns={\"date_time\":\"Z3 Datetime\"}, inplace=True)\n",
    "        \n",
    "        df_power = df_power[[\"Z3 Datetime\", \"Local Time\",\"kWh(A+B+C)\"]]\n",
    "        \n",
    "        df_1hour[meter_name] = df_power.loc[df_power[\"Z3 Datetime\"] >= start_date].sort_values([\"Local Time\"], ascending=[False])\n",
    "\n",
    "        print \"\\033[2;36;40mSuccessfully stored {} 1HOUR data from {} to {}\\n\".format(meter_name, df_power[\"Local Time\"].iloc[0], df_power[\"Local Time\"].iloc[-1])    \n",
    "        \n",
    "    except Exception as e:\n",
    "        print \"\\033[2;31;43m{}\\n\".format(e) \n"
   ]
  },
  {
   "cell_type": "markdown",
   "metadata": {
    "extensions": {
     "jupyter_dashboards": {
      "version": 1,
      "views": {
       "grid_default": {
        "col": 6,
        "height": 4,
        "hidden": true,
        "row": 0,
        "width": 4
       },
       "report_default": {}
      }
     }
    }
   },
   "source": [
    "<span style=\"color:Blue; font-family:Times New Roman; font-size:1.2em;\">Data Extraction and Transform using Parallel Processing</span>"
   ]
  },
  {
   "cell_type": "code",
   "execution_count": null,
   "metadata": {
    "ExecuteTime": {
     "start_time": "2018-07-13T19:50:06.589Z"
    },
    "code_folding": [
     4,
     13
    ],
    "extensions": {
     "jupyter_dashboards": {
      "version": 1,
      "views": {
       "grid_default": {
        "col": 6,
        "height": 44,
        "hidden": true,
        "row": 0,
        "width": 4
       },
       "report_default": {}
      }
     }
    }
   },
   "outputs": [
    {
     "name": "stdout",
     "output_type": "stream",
     "text": [
      "\u001b[2;31;43m(\"Connection broken: error(10054, 'An existing connection was forcibly closed by the remote host')\", error(10054, 'An existing connection was forcibly closed by the remote host'))\n",
      "\n",
      "       Z3 Datetime           Local Time   P(A+B+C)  kWh(A+B+C)\n",
      "0        265400340  2018-05-30 14:19:00  18.259273  501.898665\n",
      "1        265400400  2018-05-30 14:20:00  18.349037  501.902827\n",
      "2        265400460  2018-05-30 14:21:00  19.831331  501.907250\n",
      "3        265400520  2018-05-30 14:22:00  19.729138  501.911795\n",
      "4        265400580  2018-05-30 14:23:00  19.693874  501.916302\n",
      "5        265400640  2018-05-30 14:24:00  17.662958  501.920570\n",
      "6        265400700  2018-05-30 14:25:00  19.567374  501.924894\n",
      "7        265400760  2018-05-30 14:26:00  19.804772  501.929403\n",
      "8        265400820  2018-05-30 14:27:00  19.436584  501.933907\n",
      "9        265400880  2018-05-30 14:28:00  19.390008  501.938356\n",
      "10       265400940  2018-05-30 14:29:00  19.289411  501.942777\n",
      "11       265401000  2018-05-30 14:30:00  18.966698  501.947184\n",
      "12       265401060  2018-05-30 14:31:00  19.873262  501.951531\n",
      "13       265401120  2018-05-30 14:32:00  19.775980  501.956076\n",
      "14       265401180  2018-05-30 14:33:00  14.403706  501.960517\n",
      "15       265401240  2018-05-30 14:34:00  19.783586  501.965037\n",
      "16       265401300  2018-05-30 14:35:00  19.625580  501.969550\n",
      "17       265401360  2018-05-30 14:36:00  18.382901  501.973934\n",
      "18       265401420  2018-05-30 14:37:00  16.300711  501.977764\n",
      "19       265401480  2018-05-30 14:38:00  17.345742  501.981518\n",
      "20       265401540  2018-05-30 14:39:00  18.405896  501.985614\n",
      "21       265401600  2018-05-30 14:40:00  19.902976  501.990045\n",
      "22       265401660  2018-05-30 14:41:00  19.963168  501.994594\n",
      "23       265401720  2018-05-30 14:42:00  20.030345  501.999182\n",
      "24       265401780  2018-05-30 14:43:00  20.165054  502.003774\n",
      "25       265401840  2018-05-30 14:44:00  16.998456  502.008368\n",
      "26       265401900  2018-05-30 14:45:00  16.989893  502.012263\n",
      "27       265401960  2018-05-30 14:46:00  16.910996  502.016134\n",
      "28       265402020  2018-05-30 14:47:00  16.779958  502.020004\n",
      "29       265402080  2018-05-30 14:48:00  10.109830  502.023807\n",
      "...            ...                  ...        ...         ...\n",
      "63418    269205540  2018-07-13 15:19:00   5.481806  588.756433\n",
      "63419    269205600  2018-07-13 15:20:00   5.534481  588.757695\n",
      "63420    269205660  2018-07-13 15:21:00   5.642631  588.758974\n",
      "63421    269205720  2018-07-13 15:22:00   5.814589  588.760285\n",
      "63422    269205780  2018-07-13 15:23:00   6.070834  588.761645\n",
      "63423    269205840  2018-07-13 15:24:00   6.409947  588.763074\n",
      "63424    269205900  2018-07-13 15:25:00   6.805793  588.764587\n",
      "63425    269205960  2018-07-13 15:26:00   7.230805  588.766195\n",
      "63426    269206020  2018-07-13 15:27:00   7.690443  588.767901\n",
      "63427    269206080  2018-07-13 15:28:00   8.076432  588.769708\n",
      "63428    269206140  2018-07-13 15:29:00   8.509564  588.771609\n",
      "63429    269206200  2018-07-13 15:30:00   8.800027  588.773600\n",
      "63430    269206260  2018-07-13 15:31:00   8.890235  588.775629\n",
      "63431    269206320  2018-07-13 15:32:00   8.825717  588.777662\n",
      "63432    269206380  2018-07-13 15:33:00   8.646525  588.779666\n",
      "63433    269206440  2018-07-13 15:34:00   8.368420  588.781616\n",
      "63434    269206500  2018-07-13 15:35:00   8.081875  588.783501\n",
      "63435    269206560  2018-07-13 15:36:00   7.811270  588.785321\n",
      "63436    269206620  2018-07-13 15:37:00   7.559245  588.787081\n",
      "63437    269206680  2018-07-13 15:38:00   7.316031  588.788786\n",
      "63438    269206740  2018-07-13 15:39:00   7.035337  588.790431\n",
      "63439    269206800  2018-07-13 15:40:00   6.715763  588.792007\n",
      "63440    269206860  2018-07-13 15:41:00   6.409166  588.793510\n",
      "63441    269206920  2018-07-13 15:42:00   6.147266  588.794947\n",
      "63442    269206980  2018-07-13 15:43:00   5.924353  588.796308\n",
      "63443    269207040  2018-07-13 15:44:00   5.742696  588.797644\n",
      "63444    269207100  2018-07-13 15:45:00   5.577936  588.798941\n",
      "63445    269207160  2018-07-13 15:46:00   5.437536  588.800202\n",
      "63446    269207220  2018-07-13 15:47:00   5.338233  588.801436\n",
      "63447    269207280  2018-07-13 15:48:00   5.292349  588.802653\n",
      "\n",
      "[63448 rows x 4 columns]\n",
      "\u001b[2;34;40mSuccessfully fetched Solar PV System Output datalog from 2018-05-30 14:19:00 to 2018-07-13 15:48:00\n",
      "\n",
      "       Z3 Datetime           Local Time   P(A+B+C)  kWh(A+B+C)\n",
      "0        265400340  2018-05-30 14:19:00  18.259273  501.898665\n",
      "1        265400400  2018-05-30 14:20:00  18.349037  501.902827\n",
      "2        265400460  2018-05-30 14:21:00  19.831331  501.907250\n",
      "3        265400520  2018-05-30 14:22:00  19.729138  501.911795\n",
      "4        265400580  2018-05-30 14:23:00  19.693874  501.916302\n",
      "5        265400640  2018-05-30 14:24:00  17.662958  501.920570\n",
      "6        265400700  2018-05-30 14:25:00  19.567374  501.924894\n",
      "7        265400760  2018-05-30 14:26:00  19.804772  501.929403\n",
      "8        265400820  2018-05-30 14:27:00  19.436584  501.933907\n",
      "9        265400880  2018-05-30 14:28:00  19.390008  501.938356\n",
      "10       265400940  2018-05-30 14:29:00  19.289411  501.942777\n",
      "11       265401000  2018-05-30 14:30:00  18.966698  501.947184\n",
      "12       265401060  2018-05-30 14:31:00  19.873262  501.951531\n",
      "13       265401120  2018-05-30 14:32:00  19.775980  501.956076\n",
      "14       265401180  2018-05-30 14:33:00  14.403706  501.960517\n",
      "15       265401240  2018-05-30 14:34:00  19.783586  501.965037\n",
      "16       265401300  2018-05-30 14:35:00  19.625580  501.969550\n",
      "17       265401360  2018-05-30 14:36:00  18.382901  501.973934\n",
      "18       265401420  2018-05-30 14:37:00  16.300711  501.977764\n",
      "19       265401480  2018-05-30 14:38:00  17.345742  501.981518\n",
      "20       265401540  2018-05-30 14:39:00  18.405896  501.985614\n",
      "21       265401600  2018-05-30 14:40:00  19.902976  501.990045\n",
      "22       265401660  2018-05-30 14:41:00  19.963168  501.994594\n",
      "23       265401720  2018-05-30 14:42:00  20.030345  501.999182\n",
      "24       265401780  2018-05-30 14:43:00  20.165054  502.003774\n",
      "25       265401840  2018-05-30 14:44:00  16.998456  502.008368\n",
      "26       265401900  2018-05-30 14:45:00  16.989893  502.012263\n",
      "27       265401960  2018-05-30 14:46:00  16.910996  502.016134\n",
      "28       265402020  2018-05-30 14:47:00  16.779958  502.020004\n",
      "29       265402080  2018-05-30 14:48:00  10.109830  502.023807\n",
      "...            ...                  ...        ...         ...\n",
      "63419    269205600  2018-07-13 15:20:00   5.534481  588.757695\n",
      "63420    269205660  2018-07-13 15:21:00   5.642631  588.758974\n",
      "63421    269205720  2018-07-13 15:22:00   5.814589  588.760285\n",
      "63422    269205780  2018-07-13 15:23:00   6.070834  588.761645\n",
      "63423    269205840  2018-07-13 15:24:00   6.409947  588.763074\n",
      "63424    269205900  2018-07-13 15:25:00   6.805793  588.764587\n",
      "63425    269205960  2018-07-13 15:26:00   7.230805  588.766195\n",
      "63426    269206020  2018-07-13 15:27:00   7.690443  588.767901\n",
      "63427    269206080  2018-07-13 15:28:00   8.076432  588.769708\n",
      "63428    269206140  2018-07-13 15:29:00   8.509564  588.771609\n",
      "63429    269206200  2018-07-13 15:30:00   8.800027  588.773600\n",
      "63430    269206260  2018-07-13 15:31:00   8.890235  588.775629\n",
      "63431    269206320  2018-07-13 15:32:00   8.825717  588.777662\n",
      "63432    269206380  2018-07-13 15:33:00   8.646525  588.779666\n",
      "63433    269206440  2018-07-13 15:34:00   8.368420  588.781616\n",
      "63434    269206500  2018-07-13 15:35:00   8.081875  588.783501\n",
      "63435    269206560  2018-07-13 15:36:00   7.811270  588.785321\n",
      "63436    269206620  2018-07-13 15:37:00   7.559245  588.787081\n",
      "63437    269206680  2018-07-13 15:38:00   7.316031  588.788786\n",
      "63438    269206740  2018-07-13 15:39:00   7.035337  588.790431\n",
      "63439    269206800  2018-07-13 15:40:00   6.715763  588.792007\n",
      "63440    269206860  2018-07-13 15:41:00   6.409166  588.793510\n",
      "63441    269206920  2018-07-13 15:42:00   6.147266  588.794947\n",
      "63442    269206980  2018-07-13 15:43:00   5.924353  588.796308\n",
      "63443    269207040  2018-07-13 15:44:00   5.742696  588.797644\n",
      "63444    269207100  2018-07-13 15:45:00   5.577936  588.798941\n",
      "63445    269207160  2018-07-13 15:46:00   5.437536  588.800202\n",
      "63446    269207220  2018-07-13 15:47:00   5.338233  588.801436\n",
      "63447    269207280  2018-07-13 15:48:00   5.292349  588.802653\n",
      "63448    269207340  2018-07-13 15:49:00   5.319635  588.803867\n",
      "\n",
      "[63449 rows x 4 columns]\n",
      "\u001b[2;34;40mSuccessfully fetched Solar PV System Output datalog from 2018-05-30 14:19:00 to 2018-07-13 15:49:00\n",
      "\n"
     ]
    },
    {
     "name": "stdout",
     "output_type": "stream",
     "text": [
      "       Z3 Datetime           Local Time   P(A+B+C)  kWh(A+B+C)\n",
      "0        263062800  2018-05-03 13:00:00  14.235390  943.359805\n",
      "1        263062860  2018-05-03 13:01:00  13.410670  943.360077\n",
      "2        263062920  2018-05-03 13:02:00  13.231383  943.360333\n",
      "3        263062980  2018-05-03 13:03:00  27.359200  943.360602\n",
      "4        263063040  2018-05-03 13:04:00  13.338955  943.360867\n",
      "5        263063100  2018-05-03 13:05:00  12.872809  943.361127\n",
      "6        263063160  2018-05-03 13:06:00  12.693522  943.361398\n",
      "7        263063220  2018-05-03 13:07:00  13.518242  943.361655\n",
      "8        263063280  2018-05-03 13:08:00  13.016238  943.361923\n",
      "9        263063340  2018-05-03 13:09:00  12.908666  943.362183\n",
      "10       263063400  2018-05-03 13:10:00  14.665679  943.362457\n",
      "11       263063460  2018-05-03 13:11:00  13.267240  943.362717\n",
      "12       263063520  2018-05-03 13:12:00  12.908666  943.362991\n",
      "13       263063580  2018-05-03 13:13:00  25.745617  943.363254\n",
      "14       263063640  2018-05-03 13:14:00  13.410670  943.363681\n",
      "15       263063700  2018-05-03 13:15:00  13.052096  943.363940\n",
      "16       263063760  2018-05-03 13:16:00  11.546085  943.364209\n",
      "17       263063820  2018-05-03 13:17:00  12.729379  943.364453\n",
      "18       263063880  2018-05-03 13:18:00  12.621807  943.364719\n",
      "19       263063940  2018-05-03 13:19:00  12.334947  943.364966\n",
      "20       263064000  2018-05-03 13:20:00  14.880823  943.365228\n",
      "21       263064060  2018-05-03 13:21:00  13.016238  943.365469\n",
      "22       263064120  2018-05-03 13:22:00  12.263233  943.365714\n",
      "23       263064180  2018-05-03 13:23:00  13.482384  943.365976\n",
      "24       263064240  2018-05-03 13:24:00  12.621807  943.366214\n",
      "25       263064300  2018-05-03 13:25:00  12.191518  943.366476\n",
      "26       263064360  2018-05-03 13:26:00  12.048088  943.366721\n",
      "27       263064420  2018-05-03 13:27:00  12.801094  943.366971\n",
      "28       263064480  2018-05-03 13:28:00  12.299090  943.367218\n",
      "29       263064540  2018-05-03 13:29:00  12.048088  943.367477\n",
      "...            ...                  ...        ...         ...\n",
      "99645    269205480  2018-07-13 15:18:00  13.338955  974.217300\n",
      "99646    269205540  2018-07-13 15:19:00  13.446527  974.217496\n",
      "99647    269205600  2018-07-13 15:20:00  13.195525  974.217719\n",
      "99648    269205660  2018-07-13 15:21:00  13.195525  974.217926\n",
      "99649    269205720  2018-07-13 15:22:00  13.231383  974.218146\n",
      "99650    269205780  2018-07-13 15:23:00  13.446527  974.218375\n",
      "99651    269205840  2018-07-13 15:24:00  12.550092  974.219235\n",
      "99652    269205900  2018-07-13 15:25:00  13.840959  974.219449\n",
      "99653    269205960  2018-07-13 15:26:00  13.052096  974.219659\n",
      "99654    269206020  2018-07-13 15:27:00  12.980381  974.219855\n",
      "99655    269206080  2018-07-13 15:28:00  13.016238  974.220065\n",
      "99656    269206140  2018-07-13 15:29:00  13.195525  974.220264\n",
      "99657    269206200  2018-07-13 15:30:00  13.195525  974.220483\n",
      "99658    269206260  2018-07-13 15:31:00  13.303097  974.220685\n",
      "99659    269206320  2018-07-13 15:32:00  26.928912  974.220901\n",
      "99660    269206380  2018-07-13 15:33:00  12.980381  974.221112\n",
      "99661    269206440  2018-07-13 15:34:00  13.087953  974.221320\n",
      "99662    269206500  2018-07-13 15:35:00  13.195525  974.221548\n",
      "99663    269206560  2018-07-13 15:36:00  13.052096  974.221753\n",
      "99664    269206620  2018-07-13 15:37:00  13.123810  974.221973\n",
      "99665    269206680  2018-07-13 15:38:00  12.872809  974.222177\n",
      "99666    269206740  2018-07-13 15:39:00  12.944523  974.222400\n",
      "99667    269206800  2018-07-13 15:40:00  13.231383  974.222595\n",
      "99668    269206860  2018-07-13 15:41:00  12.944523  974.222809\n",
      "99669    269206920  2018-07-13 15:42:00  13.123810  974.223007\n",
      "99670    269206980  2018-07-13 15:43:00  13.016238  974.223218\n",
      "99671    269207040  2018-07-13 15:44:00  12.872809  974.223416\n",
      "99672    269207100  2018-07-13 15:45:00  13.159668  974.223627\n",
      "99673    269207160  2018-07-13 15:46:00  13.052096  974.223825\n",
      "99674    269207220  2018-07-13 15:47:00  13.267240  974.224039\n",
      "\n",
      "[99675 rows x 4 columns]\n",
      "\u001b[2;34;40mSuccessfully fetched Natures Classroom datalog from 2018-05-03 13:00:00 to 2018-07-13 15:47:00\n",
      "\n",
      "        Z3 Datetime           Local Time   P(A+B+C)    kWh(A+B+C)\n",
      "0         262826820  2018-04-30 19:27:00  56.149111  13878.109583\n",
      "1         262826880  2018-04-30 19:28:00  56.400113  13878.111139\n",
      "2         262826940  2018-04-30 19:29:00  56.349913  13878.112701\n",
      "3         262827000  2018-04-30 19:30:00  56.475414  13878.114261\n",
      "4         262827060  2018-04-30 19:31:00  56.425213  13878.115817\n",
      "5         262827120  2018-04-30 19:32:00  55.797709  13878.117365\n",
      "6         262827180  2018-04-30 19:33:00  55.797709  13878.118906\n",
      "7         262827240  2018-04-30 19:34:00  55.973410  13878.120447\n",
      "8         262827300  2018-04-30 19:35:00  56.299712  13878.121991\n",
      "9         262827360  2018-04-30 19:36:00  56.224412  13878.123547\n",
      "10        262827420  2018-04-30 19:37:00  56.651115  13878.125098\n",
      "11        262827480  2018-04-30 19:38:00  55.923210  13878.126645\n",
      "12        262827540  2018-04-30 19:39:00  56.098911  13878.128195\n",
      "13        262827600  2018-04-30 19:40:00  55.998510  13878.129739\n",
      "14        262827660  2018-04-30 19:41:00  56.098911  13878.131287\n",
      "15        262827720  2018-04-30 19:42:00  55.923210  13878.132831\n",
      "16        262827780  2018-04-30 19:43:00  56.098911  13878.134378\n",
      "17        262827840  2018-04-30 19:44:00  56.375013  13878.135919\n",
      "18        262827900  2018-04-30 19:45:00  56.224412  13878.137457\n",
      "19        262827960  2018-04-30 19:46:00  55.948310  13878.138995\n",
      "20        262828020  2018-04-30 19:47:00  55.521607  13878.140533\n",
      "21        262828080  2018-04-30 19:48:00  55.948310  13878.142072\n",
      "22        262828140  2018-04-30 19:49:00  56.375013  13878.143613\n",
      "23        262828200  2018-04-30 19:50:00  55.622007  13878.145157\n",
      "24        262828260  2018-04-30 19:51:00  55.847909  13878.146698\n",
      "25        262828320  2018-04-30 19:52:00  55.898109  13878.148239\n",
      "26        262828380  2018-04-30 19:53:00  56.073811  13878.149786\n",
      "27        262828440  2018-04-30 19:54:00  56.626015  13878.151340\n",
      "28        262828500  2018-04-30 19:55:00  56.676215  13878.152896\n",
      "29        262828560  2018-04-30 19:56:00  56.500514  13878.154449\n",
      "...             ...                  ...        ...           ...\n",
      "103626    269205480  2018-07-13 15:18:00  57.178219  14361.894540\n",
      "103627    269205540  2018-07-13 15:19:00  56.851916  14361.896112\n",
      "103628    269205600  2018-07-13 15:20:00  57.454321  14361.897693\n",
      "103629    269205660  2018-07-13 15:21:00  57.881024  14361.899280\n",
      "103630    269205720  2018-07-13 15:22:00  58.006525  14361.900873\n",
      "103631    269205780  2018-07-13 15:23:00  58.132026  14361.902466\n",
      "103632    269205840  2018-07-13 15:24:00  56.023610  14361.904047\n",
      "103633    269205900  2018-07-13 15:25:00  56.149111  14361.905582\n",
      "103634    269205960  2018-07-13 15:26:00  55.898109  14361.907120\n",
      "103635    269206020  2018-07-13 15:27:00  55.847909  14361.908658\n",
      "103636    269206080  2018-07-13 15:28:00  56.174211  14361.910202\n",
      "103637    269206140  2018-07-13 15:29:00  56.400113  14361.911749\n",
      "103638    269206200  2018-07-13 15:30:00  56.098911  14361.913293\n",
      "103639    269206260  2018-07-13 15:31:00  56.249512  14361.914841\n",
      "103640    269206320  2018-07-13 15:32:00  56.676215  14361.916385\n",
      "103641    269206380  2018-07-13 15:33:00  56.425213  14361.917935\n",
      "103642    269206440  2018-07-13 15:34:00  56.274612  14361.919489\n",
      "103643    269206500  2018-07-13 15:35:00  56.199312  14361.921039\n",
      "103644    269206560  2018-07-13 15:36:00  56.500514  14361.922592\n",
      "103645    269206620  2018-07-13 15:37:00  56.450313  14361.924149\n",
      "103646    269206680  2018-07-13 15:38:00  56.801716  14361.925708\n",
      "103647    269206740  2018-07-13 15:39:00  56.801716  14361.927271\n",
      "103648    269206800  2018-07-13 15:40:00  56.626015  14361.928827\n",
      "103649    269206860  2018-07-13 15:41:00  56.550714  14361.930386\n",
      "103650    269206920  2018-07-13 15:42:00  56.525614  14361.931943\n",
      "103651    269206980  2018-07-13 15:43:00  56.525614  14361.933496\n",
      "103652    269207040  2018-07-13 15:44:00  56.801716  14361.935052\n",
      "103653    269207100  2018-07-13 15:45:00  56.801716  14361.936609\n",
      "103654    269207160  2018-07-13 15:46:00  57.102918  14361.938168\n",
      "103655    269207220  2018-07-13 15:47:00  56.902117  14361.939734\n",
      "\n",
      "[103656 rows x 4 columns]\n",
      "\u001b[2;34;40mSuccessfully fetched Panel C1 Lighting datalog from 2018-04-30 19:27:00 to 2018-07-13 15:47:00\n",
      "\n"
     ]
    },
    {
     "name": "stdout",
     "output_type": "stream",
     "text": [
      "        Z3 Datetime           Local Time  P(A+B+C)  kWh(A+B+C)\n",
      "0         263034780  2018-05-03 05:13:00  1.649441  137.959192\n",
      "1         263034840  2018-05-03 05:14:00  1.075722  137.959192\n",
      "2         263034900  2018-05-03 05:15:00  0.860578  137.959192\n",
      "3         263034960  2018-05-03 05:16:00  0.860578  137.959192\n",
      "4         263035020  2018-05-03 05:17:00  0.932293  137.959192\n",
      "5         263035080  2018-05-03 05:18:00  0.932293  137.959192\n",
      "6         263035140  2018-05-03 05:19:00  1.147437  137.959192\n",
      "7         263035200  2018-05-03 05:20:00  0.788863  137.959192\n",
      "8         263035260  2018-05-03 05:21:00  1.434296  137.959192\n",
      "9         263035320  2018-05-03 05:22:00  1.075722  137.959192\n",
      "10        263035380  2018-05-03 05:23:00  1.362581  137.959192\n",
      "11        263035440  2018-05-03 05:24:00  0.502004  137.959192\n",
      "12        263035500  2018-05-03 05:25:00  1.004007  137.959192\n",
      "13        263035560  2018-05-03 05:26:00  0.860578  137.959192\n",
      "14        263035620  2018-05-03 05:27:00  1.219152  137.959192\n",
      "15        263035680  2018-05-03 05:28:00  1.362581  137.959192\n",
      "16        263035740  2018-05-03 05:29:00  0.932293  137.959192\n",
      "17        263035800  2018-05-03 05:30:00  1.219152  137.959192\n",
      "18        263035860  2018-05-03 05:31:00  1.147437  137.959192\n",
      "19        263035920  2018-05-03 05:32:00  0.932293  137.959192\n",
      "20        263035980  2018-05-03 05:33:00  1.004007  137.959192\n",
      "21        263036040  2018-05-03 05:34:00  0.717148  137.959192\n",
      "22        263036100  2018-05-03 05:35:00  1.219152  137.959192\n",
      "23        263036160  2018-05-03 05:36:00  0.860578  137.959192\n",
      "24        263036220  2018-05-03 05:37:00  0.860578  137.959192\n",
      "25        263036280  2018-05-03 05:38:00  0.860578  137.959192\n",
      "26        263036340  2018-05-03 05:39:00  1.290867  137.959192\n",
      "27        263036400  2018-05-03 05:40:00  1.075722  137.959192\n",
      "28        263036460  2018-05-03 05:41:00  0.932293  137.959192\n",
      "29        263036520  2018-05-03 05:42:00  0.788863  137.959192\n",
      "...             ...                  ...       ...         ...\n",
      "100142    269205480  2018-07-13 15:18:00  1.147437  140.231586\n",
      "100143    269205540  2018-07-13 15:19:00  1.577726  140.231586\n",
      "100144    269205600  2018-07-13 15:20:00  1.506011  140.231586\n",
      "100145    269205660  2018-07-13 15:21:00  0.932293  140.231586\n",
      "100146    269205720  2018-07-13 15:22:00  1.147437  140.231586\n",
      "100147    269205780  2018-07-13 15:23:00  1.362581  140.231586\n",
      "100148    269205840  2018-07-13 15:24:00  1.147437  140.231586\n",
      "100149    269205900  2018-07-13 15:25:00  0.430289  140.231586\n",
      "100150    269205960  2018-07-13 15:26:00  1.075722  140.231586\n",
      "100151    269206020  2018-07-13 15:27:00  0.932293  140.231586\n",
      "100152    269206080  2018-07-13 15:28:00  1.004007  140.231586\n",
      "100153    269206140  2018-07-13 15:29:00  1.649441  140.231586\n",
      "100154    269206200  2018-07-13 15:30:00  1.219152  140.231586\n",
      "100155    269206260  2018-07-13 15:31:00  1.219152  140.231586\n",
      "100156    269206320  2018-07-13 15:32:00  1.649441  140.231586\n",
      "100157    269206380  2018-07-13 15:33:00  1.506011  140.231586\n",
      "100158    269206440  2018-07-13 15:34:00  0.358574  140.231586\n",
      "100159    269206500  2018-07-13 15:35:00  1.792870  140.231586\n",
      "100160    269206560  2018-07-13 15:36:00  0.860578  140.231586\n",
      "100161    269206620  2018-07-13 15:37:00  1.004007  140.231586\n",
      "100162    269206740  2018-07-13 15:39:00  0.932293  140.231586\n",
      "100163    269206800  2018-07-13 15:40:00  0.932293  140.231586\n",
      "100164    269206860  2018-07-13 15:41:00  1.649441  140.231586\n",
      "100165    269206920  2018-07-13 15:42:00  0.645433  140.231586\n",
      "100166    269206980  2018-07-13 15:43:00  1.147437  140.231586\n",
      "100167    269207040  2018-07-13 15:44:00  1.004007  140.231586\n",
      "100168    269207100  2018-07-13 15:45:00  1.434296  140.231586\n",
      "100169    269207160  2018-07-13 15:46:00  0.645433  140.231586\n",
      "100170    269207220  2018-07-13 15:47:00  0.932293  140.231586\n",
      "100171    269207280  2018-07-13 15:48:00  1.219152  140.231586\n",
      "\n",
      "[100172 rows x 4 columns]\n",
      "\u001b[2;34;40mSuccessfully fetched Panel C3 DHW datalog from 2018-05-03 05:13:00 to 2018-07-13 15:48:00\n",
      "\n",
      "        Z3 Datetime           Local Time  P(A+B+C)  kWh(A+B+C)\n",
      "0         263034780  2018-05-03 05:13:00  1.649441  137.959192\n",
      "1         263034840  2018-05-03 05:14:00  1.075722  137.959192\n",
      "2         263034900  2018-05-03 05:15:00  0.860578  137.959192\n",
      "3         263034960  2018-05-03 05:16:00  0.860578  137.959192\n",
      "4         263035020  2018-05-03 05:17:00  0.932293  137.959192\n",
      "5         263035080  2018-05-03 05:18:00  0.932293  137.959192\n",
      "6         263035140  2018-05-03 05:19:00  1.147437  137.959192\n",
      "7         263035200  2018-05-03 05:20:00  0.788863  137.959192\n",
      "8         263035260  2018-05-03 05:21:00  1.434296  137.959192\n",
      "9         263035320  2018-05-03 05:22:00  1.075722  137.959192\n",
      "10        263035380  2018-05-03 05:23:00  1.362581  137.959192\n",
      "11        263035440  2018-05-03 05:24:00  0.502004  137.959192\n",
      "12        263035500  2018-05-03 05:25:00  1.004007  137.959192\n",
      "13        263035560  2018-05-03 05:26:00  0.860578  137.959192\n",
      "14        263035620  2018-05-03 05:27:00  1.219152  137.959192\n",
      "15        263035680  2018-05-03 05:28:00  1.362581  137.959192\n",
      "16        263035740  2018-05-03 05:29:00  0.932293  137.959192\n",
      "17        263035800  2018-05-03 05:30:00  1.219152  137.959192\n",
      "18        263035860  2018-05-03 05:31:00  1.147437  137.959192\n",
      "19        263035920  2018-05-03 05:32:00  0.932293  137.959192\n",
      "20        263035980  2018-05-03 05:33:00  1.004007  137.959192\n",
      "21        263036040  2018-05-03 05:34:00  0.717148  137.959192\n",
      "22        263036100  2018-05-03 05:35:00  1.219152  137.959192\n",
      "23        263036160  2018-05-03 05:36:00  0.860578  137.959192\n",
      "24        263036220  2018-05-03 05:37:00  0.860578  137.959192\n",
      "25        263036280  2018-05-03 05:38:00  0.860578  137.959192\n",
      "26        263036340  2018-05-03 05:39:00  1.290867  137.959192\n",
      "27        263036400  2018-05-03 05:40:00  1.075722  137.959192\n",
      "28        263036460  2018-05-03 05:41:00  0.932293  137.959192\n",
      "29        263036520  2018-05-03 05:42:00  0.788863  137.959192\n",
      "...             ...                  ...       ...         ...\n",
      "100142    269205480  2018-07-13 15:18:00  1.147437  140.231586\n",
      "100143    269205540  2018-07-13 15:19:00  1.577726  140.231586\n",
      "100144    269205600  2018-07-13 15:20:00  1.506011  140.231586\n",
      "100145    269205660  2018-07-13 15:21:00  0.932293  140.231586\n",
      "100146    269205720  2018-07-13 15:22:00  1.147437  140.231586\n",
      "100147    269205780  2018-07-13 15:23:00  1.362581  140.231586\n",
      "100148    269205840  2018-07-13 15:24:00  1.147437  140.231586\n",
      "100149    269205900  2018-07-13 15:25:00  0.430289  140.231586\n",
      "100150    269205960  2018-07-13 15:26:00  1.075722  140.231586\n",
      "100151    269206020  2018-07-13 15:27:00  0.932293  140.231586\n",
      "100152    269206080  2018-07-13 15:28:00  1.004007  140.231586\n",
      "100153    269206140  2018-07-13 15:29:00  1.649441  140.231586\n",
      "100154    269206200  2018-07-13 15:30:00  1.219152  140.231586\n",
      "100155    269206260  2018-07-13 15:31:00  1.219152  140.231586\n",
      "100156    269206320  2018-07-13 15:32:00  1.649441  140.231586\n",
      "100157    269206380  2018-07-13 15:33:00  1.506011  140.231586\n",
      "100158    269206440  2018-07-13 15:34:00  0.358574  140.231586\n",
      "100159    269206500  2018-07-13 15:35:00  1.792870  140.231586\n",
      "100160    269206560  2018-07-13 15:36:00  0.860578  140.231586\n",
      "100161    269206620  2018-07-13 15:37:00  1.004007  140.231586\n",
      "100162    269206740  2018-07-13 15:39:00  0.932293  140.231586\n",
      "100163    269206800  2018-07-13 15:40:00  0.932293  140.231586\n",
      "100164    269206860  2018-07-13 15:41:00  1.649441  140.231586\n",
      "100165    269206920  2018-07-13 15:42:00  0.645433  140.231586\n",
      "100166    269206980  2018-07-13 15:43:00  1.147437  140.231586\n",
      "100167    269207040  2018-07-13 15:44:00  1.004007  140.231586\n",
      "100168    269207100  2018-07-13 15:45:00  1.434296  140.231586\n",
      "100169    269207160  2018-07-13 15:46:00  0.645433  140.231586\n",
      "100170    269207220  2018-07-13 15:47:00  0.932293  140.231586\n",
      "100171    269207280  2018-07-13 15:48:00  1.219152  140.231586\n",
      "\n",
      "[100172 rows x 4 columns]\n",
      "\u001b[2;34;40mSuccessfully fetched Panel C3 DHW datalog from 2018-05-03 05:13:00 to 2018-07-13 15:48:00\n",
      "\n",
      "       Z3 Datetime           Local Time   P(A+B+C)  kWh(A+B+C)\n",
      "0        263062800  2018-05-03 13:00:00  14.235390  943.359805\n",
      "1        263062860  2018-05-03 13:01:00  13.410670  943.360077\n",
      "2        263062920  2018-05-03 13:02:00  13.231383  943.360333\n",
      "3        263062980  2018-05-03 13:03:00  27.359200  943.360602\n",
      "4        263063040  2018-05-03 13:04:00  13.338955  943.360867\n",
      "5        263063100  2018-05-03 13:05:00  12.872809  943.361127\n",
      "6        263063160  2018-05-03 13:06:00  12.693522  943.361398\n",
      "7        263063220  2018-05-03 13:07:00  13.518242  943.361655\n",
      "8        263063280  2018-05-03 13:08:00  13.016238  943.361923\n",
      "9        263063340  2018-05-03 13:09:00  12.908666  943.362183\n",
      "10       263063400  2018-05-03 13:10:00  14.665679  943.362457\n",
      "11       263063460  2018-05-03 13:11:00  13.267240  943.362717\n",
      "12       263063520  2018-05-03 13:12:00  12.908666  943.362991\n",
      "13       263063580  2018-05-03 13:13:00  25.745617  943.363254\n",
      "14       263063640  2018-05-03 13:14:00  13.410670  943.363681\n",
      "15       263063700  2018-05-03 13:15:00  13.052096  943.363940\n",
      "16       263063760  2018-05-03 13:16:00  11.546085  943.364209\n",
      "17       263063820  2018-05-03 13:17:00  12.729379  943.364453\n",
      "18       263063880  2018-05-03 13:18:00  12.621807  943.364719\n",
      "19       263063940  2018-05-03 13:19:00  12.334947  943.364966\n",
      "20       263064000  2018-05-03 13:20:00  14.880823  943.365228\n",
      "21       263064060  2018-05-03 13:21:00  13.016238  943.365469\n",
      "22       263064120  2018-05-03 13:22:00  12.263233  943.365714\n",
      "23       263064180  2018-05-03 13:23:00  13.482384  943.365976\n",
      "24       263064240  2018-05-03 13:24:00  12.621807  943.366214\n",
      "25       263064300  2018-05-03 13:25:00  12.191518  943.366476\n",
      "26       263064360  2018-05-03 13:26:00  12.048088  943.366721\n",
      "27       263064420  2018-05-03 13:27:00  12.801094  943.366971\n",
      "28       263064480  2018-05-03 13:28:00  12.299090  943.367218\n",
      "29       263064540  2018-05-03 13:29:00  12.048088  943.367477\n",
      "...            ...                  ...        ...         ...\n",
      "99646    269205540  2018-07-13 15:19:00  13.446527  974.217496\n",
      "99647    269205600  2018-07-13 15:20:00  13.195525  974.217719\n",
      "99648    269205660  2018-07-13 15:21:00  13.195525  974.217926\n",
      "99649    269205720  2018-07-13 15:22:00  13.231383  974.218146\n",
      "99650    269205780  2018-07-13 15:23:00  13.446527  974.218375\n",
      "99651    269205840  2018-07-13 15:24:00  12.550092  974.219235\n",
      "99652    269205900  2018-07-13 15:25:00  13.840959  974.219449\n",
      "99653    269205960  2018-07-13 15:26:00  13.052096  974.219659\n",
      "99654    269206020  2018-07-13 15:27:00  12.980381  974.219855\n",
      "99655    269206080  2018-07-13 15:28:00  13.016238  974.220065\n",
      "99656    269206140  2018-07-13 15:29:00  13.195525  974.220264\n",
      "99657    269206200  2018-07-13 15:30:00  13.195525  974.220483\n",
      "99658    269206260  2018-07-13 15:31:00  13.303097  974.220685\n",
      "99659    269206320  2018-07-13 15:32:00  26.928912  974.220901\n",
      "99660    269206380  2018-07-13 15:33:00  12.980381  974.221112\n",
      "99661    269206440  2018-07-13 15:34:00  13.087953  974.221320\n",
      "99662    269206500  2018-07-13 15:35:00  13.195525  974.221548\n",
      "99663    269206560  2018-07-13 15:36:00  13.052096  974.221753\n",
      "99664    269206620  2018-07-13 15:37:00  13.123810  974.221973\n",
      "99665    269206680  2018-07-13 15:38:00  12.872809  974.222177\n",
      "99666    269206740  2018-07-13 15:39:00  12.944523  974.222400\n",
      "99667    269206800  2018-07-13 15:40:00  13.231383  974.222595\n",
      "99668    269206860  2018-07-13 15:41:00  12.944523  974.222809\n",
      "99669    269206920  2018-07-13 15:42:00  13.123810  974.223007\n",
      "99670    269206980  2018-07-13 15:43:00  13.016238  974.223218\n",
      "99671    269207040  2018-07-13 15:44:00  12.872809  974.223416\n",
      "99672    269207100  2018-07-13 15:45:00  13.159668  974.223627\n",
      "99673    269207160  2018-07-13 15:46:00  13.052096  974.223825\n",
      "99674    269207220  2018-07-13 15:47:00  13.267240  974.224039\n",
      "99675    269207280  2018-07-13 15:48:00  13.016238  974.224234\n",
      "\n",
      "[99676 rows x 4 columns]\n",
      "\u001b[2;34;40mSuccessfully fetched Natures Classroom datalog from 2018-05-03 13:00:00 to 2018-07-13 15:48:00\n",
      "\n"
     ]
    },
    {
     "name": "stdout",
     "output_type": "stream",
     "text": [
      "\u001b[2;34;40mSuccessfully fetched Panel C4 Pumps datalog from 2018-07-05 09:11:00 to 2018-07-13 15:53:00\n",
      "\n",
      "        Z3 Datetime           Local Time    P(A+B+C)    kWh(A+B+C)\n",
      "0         262836840  2018-04-30 22:14:00  211.379405  63402.408624\n",
      "1         262836900  2018-04-30 22:15:00  212.275840  63402.412686\n",
      "2         262836960  2018-04-30 22:16:00  207.399233  63402.416748\n",
      "3         262837020  2018-04-30 22:17:00  207.721950  63402.420807\n",
      "4         262837080  2018-04-30 22:18:00  206.933087  63402.424863\n",
      "5         262837140  2018-04-30 22:19:00  206.897230  63402.428915\n",
      "6         262837200  2018-04-30 22:20:00  206.466941  63402.432971\n",
      "7         262837260  2018-04-30 22:21:00  206.825515  63402.437015\n",
      "8         262837320  2018-04-30 22:22:00  207.291661  63402.441064\n",
      "9         262837380  2018-04-30 22:23:00  206.215939  63402.445114\n",
      "10        262837440  2018-04-30 22:24:00  207.757807  63402.449164\n",
      "11        262837500  2018-04-30 22:25:00  206.789657  63402.453214\n",
      "12        262837560  2018-04-30 22:26:00  207.721950  63402.457269\n",
      "13        262837620  2018-04-30 22:27:00  207.255804  63402.461325\n",
      "14        262837680  2018-04-30 22:28:00  207.327518  63402.465387\n",
      "15        262837740  2018-04-30 22:29:00  207.650235  63402.469449\n",
      "16        262837800  2018-04-30 22:30:00  208.044667  63402.473520\n",
      "17        262837860  2018-04-30 22:31:00  213.172276  63402.477588\n",
      "18        262837920  2018-04-30 22:32:00  212.168268  63402.481656\n",
      "19        262837980  2018-04-30 22:33:00  210.052681  63402.485724\n",
      "20        262838040  2018-04-30 22:34:00  208.152239  63402.489795\n",
      "21        262838100  2018-04-30 22:35:00  207.829522  63402.493872\n",
      "22        262838160  2018-04-30 22:36:00  207.686093  63402.497943\n",
      "23        262838220  2018-04-30 22:37:00  208.080524  63402.502020\n",
      "24        262838280  2018-04-30 22:38:00  209.227961  63402.506100\n",
      "25        262838340  2018-04-30 22:39:00  208.008809  63402.510184\n",
      "26        262838400  2018-04-30 22:40:00  209.227961  63402.514267\n",
      "27        262838460  2018-04-30 22:41:00  208.439098  63402.518350\n",
      "28        262838520  2018-04-30 22:42:00  213.494992  63402.522440\n",
      "29        262838580  2018-04-30 22:43:00  210.482970  63402.526526\n",
      "...             ...                  ...         ...           ...\n",
      "103444    269205540  2018-07-13 15:19:00  257.097597  64192.202036\n",
      "103445    269205600  2018-07-13 15:20:00  253.224998  64192.206982\n",
      "103446    269205660  2018-07-13 15:21:00  253.691144  64192.211942\n",
      "103447    269205720  2018-07-13 15:22:00  253.440142  64192.216901\n",
      "103448    269205780  2018-07-13 15:23:00  253.081568  64192.221863\n",
      "103449    269205840  2018-07-13 15:24:00  249.961974  64192.226804\n",
      "103450    269205900  2018-07-13 15:25:00  250.284690  64192.231696\n",
      "103451    269205960  2018-07-13 15:26:00  249.639257  64192.236591\n",
      "103452    269206020  2018-07-13 15:27:00  249.961974  64192.241489\n",
      "103453    269206080  2018-07-13 15:28:00  251.252840  64192.246387\n",
      "103454    269206140  2018-07-13 15:29:00  250.320548  64192.251294\n",
      "103455    269206200  2018-07-13 15:30:00  250.284690  64192.256198\n",
      "103456    269206260  2018-07-13 15:31:00  251.288698  64192.261105\n",
      "103457    269206320  2018-07-13 15:32:00  250.535692  64192.266010\n",
      "103458    269206380  2018-07-13 15:33:00  251.001838  64192.270917\n",
      "103459    269206440  2018-07-13 15:34:00  251.001838  64192.275830\n",
      "103460    269206500  2018-07-13 15:35:00  250.786694  64192.280740\n",
      "103461    269206560  2018-07-13 15:36:00  250.463977  64192.285648\n",
      "103462    269206620  2018-07-13 15:37:00  250.392262  64192.290561\n",
      "103463    269206680  2018-07-13 15:38:00  251.216983  64192.295471\n",
      "103464    269206740  2018-07-13 15:39:00  250.248833  64192.300378\n",
      "103465    269206800  2018-07-13 15:40:00  253.332570  64192.305283\n",
      "103466    269206860  2018-07-13 15:41:00  255.484014  64192.310187\n",
      "103467    269206920  2018-07-13 15:42:00  249.459970  64192.315088\n",
      "103468    269206980  2018-07-13 15:43:00  250.141261  64192.319986\n",
      "103469    269207040  2018-07-13 15:44:00  251.575557  64192.324890\n",
      "103470    269207100  2018-07-13 15:45:00  250.356405  64192.329791\n",
      "103471    269207160  2018-07-13 15:46:00  250.714979  64192.334702\n",
      "103472    269207220  2018-07-13 15:47:00  251.252840  64192.339615\n",
      "103473    269207280  2018-07-13 15:48:00  250.607407  64192.344525\n",
      "\n",
      "[103474 rows x 4 columns]\n",
      "\u001b[2;34;40mSuccessfully fetched Panel C2 Lighting datalog from 2018-04-30 22:14:00 to 2018-07-13 15:48:00\n",
      "\n",
      "        Z3 Datetime           Local Time  P(A+B+C)    kWh(A+B+C)\n",
      "0         262856100  2018-05-01 03:35:00  0.035857  10842.861136\n",
      "1         262856160  2018-05-01 03:36:00  0.021514  10842.861136\n",
      "2         262856220  2018-05-01 03:37:00  0.114744  10842.861136\n",
      "3         262856280  2018-05-01 03:38:00  0.064543  10842.861136\n",
      "4         262856340  2018-05-01 03:39:00  0.057372  10842.861136\n",
      "5         262856400  2018-05-01 03:40:00  0.064543  10842.861136\n",
      "6         262856460  2018-05-01 03:41:00  0.043029  10842.861136\n",
      "7         262856520  2018-05-01 03:42:00  0.050200  10842.861136\n",
      "8         262856580  2018-05-01 03:43:00  0.043029  10842.861136\n",
      "9         262856640  2018-05-01 03:44:00  0.057372  10842.861136\n",
      "10        262856700  2018-05-01 03:45:00  0.035857  10842.861136\n",
      "11        262856760  2018-05-01 03:46:00  0.043029  10842.861136\n",
      "12        262856820  2018-05-01 03:47:00  0.043029  10842.861136\n",
      "13        262856880  2018-05-01 03:48:00  0.064543  10842.861136\n",
      "14        262856940  2018-05-01 03:49:00  0.050200  10842.861136\n",
      "15        262857000  2018-05-01 03:50:00  0.028686  10842.861136\n",
      "16        262857060  2018-05-01 03:51:00  0.043029  10842.861136\n",
      "17        262857120  2018-05-01 03:52:00  0.028686  10842.861136\n",
      "18        262857180  2018-05-01 03:53:00  0.078886  10842.861136\n",
      "19        262857240  2018-05-01 03:54:00  0.043029  10842.861136\n",
      "20        262857300  2018-05-01 03:55:00  0.043029  10842.861136\n",
      "21        262857360  2018-05-01 03:56:00  0.064543  10842.861136\n",
      "22        262857420  2018-05-01 03:57:00  0.100401  10842.861136\n",
      "23        262857480  2018-05-01 03:58:00  0.043029  10842.861136\n",
      "24        262857540  2018-05-01 03:59:00  0.035857  10842.861136\n",
      "25        262857600  2018-05-01 04:00:00  0.050200  10842.861136\n",
      "26        262857660  2018-05-01 04:01:00  0.064543  10842.861136\n",
      "27        262857720  2018-05-01 04:02:00  0.050200  10842.861136\n",
      "28        262857780  2018-05-01 04:03:00  0.028686  10842.861136\n",
      "29        262857840  2018-05-01 04:04:00  0.071715  10842.861136\n",
      "...             ...                  ...       ...           ...\n",
      "103116    269205540  2018-07-13 15:19:00  0.043029  10842.867072\n",
      "103117    269205600  2018-07-13 15:20:00  0.071715  10842.867072\n",
      "103118    269205660  2018-07-13 15:21:00  0.071715  10842.867072\n",
      "103119    269205720  2018-07-13 15:22:00  0.057372  10842.867072\n",
      "103120    269205780  2018-07-13 15:23:00  0.028686  10842.867072\n",
      "103121    269205840  2018-07-13 15:24:00  0.028686  10842.867072\n",
      "103122    269205900  2018-07-13 15:25:00  0.078886  10842.867072\n",
      "103123    269205960  2018-07-13 15:26:00  0.086058  10842.867072\n",
      "103124    269206020  2018-07-13 15:27:00  0.057372  10842.867072\n",
      "103125    269206080  2018-07-13 15:28:00  0.071715  10842.867072\n",
      "103126    269206140  2018-07-13 15:29:00  0.050200  10842.867072\n",
      "103127    269206200  2018-07-13 15:30:00  0.057372  10842.867072\n",
      "103128    269206260  2018-07-13 15:31:00  0.057372  10842.867072\n",
      "103129    269206320  2018-07-13 15:32:00  0.028686  10842.867072\n",
      "103130    269206380  2018-07-13 15:33:00  0.035857  10842.867072\n",
      "103131    269206440  2018-07-13 15:34:00  0.043029  10842.867072\n",
      "103132    269206500  2018-07-13 15:35:00  0.028686  10842.867072\n",
      "103133    269206560  2018-07-13 15:36:00  0.064543  10842.867072\n",
      "103134    269206620  2018-07-13 15:37:00  0.064543  10842.867072\n",
      "103135    269206680  2018-07-13 15:38:00  0.050200  10842.867072\n",
      "103136    269206740  2018-07-13 15:39:00  0.057372  10842.867072\n",
      "103137    269206800  2018-07-13 15:40:00  0.028686  10842.867072\n",
      "103138    269206860  2018-07-13 15:41:00  0.035857  10842.867072\n",
      "103139    269206920  2018-07-13 15:42:00  0.028686  10842.867072\n",
      "103140    269206980  2018-07-13 15:43:00  0.028686  10842.867072\n",
      "103141    269207040  2018-07-13 15:44:00  0.028686  10842.867072\n",
      "103142    269207100  2018-07-13 15:45:00  0.028686  10842.867072\n",
      "103143    269207160  2018-07-13 15:46:00  0.021514  10842.867072\n",
      "103144    269207220  2018-07-13 15:47:00  0.064543  10842.867072\n",
      "103145    269207280  2018-07-13 15:48:00  0.050200  10842.867072\n",
      "\n",
      "[103146 rows x 4 columns]\n",
      "\u001b[2;34;40mSuccessfully fetched Exhaust Fans datalog from 2018-05-01 03:35:00 to 2018-07-13 15:48:00\n",
      "\n"
     ]
    },
    {
     "name": "stdout",
     "output_type": "stream",
     "text": [
      "        Z3 Datetime           Local Time    P(A+B+C)    kWh(A+B+C)\n",
      "0         262836840  2018-04-30 22:14:00  211.379405  63402.408624\n",
      "1         262836900  2018-04-30 22:15:00  212.275840  63402.412686\n",
      "2         262836960  2018-04-30 22:16:00  207.399233  63402.416748\n",
      "3         262837020  2018-04-30 22:17:00  207.721950  63402.420807\n",
      "4         262837080  2018-04-30 22:18:00  206.933087  63402.424863\n",
      "5         262837140  2018-04-30 22:19:00  206.897230  63402.428915\n",
      "6         262837200  2018-04-30 22:20:00  206.466941  63402.432971\n",
      "7         262837260  2018-04-30 22:21:00  206.825515  63402.437015\n",
      "8         262837320  2018-04-30 22:22:00  207.291661  63402.441064\n",
      "9         262837380  2018-04-30 22:23:00  206.215939  63402.445114\n",
      "10        262837440  2018-04-30 22:24:00  207.757807  63402.449164\n",
      "11        262837500  2018-04-30 22:25:00  206.789657  63402.453214\n",
      "12        262837560  2018-04-30 22:26:00  207.721950  63402.457269\n",
      "13        262837620  2018-04-30 22:27:00  207.255804  63402.461325\n",
      "14        262837680  2018-04-30 22:28:00  207.327518  63402.465387\n",
      "15        262837740  2018-04-30 22:29:00  207.650235  63402.469449\n",
      "16        262837800  2018-04-30 22:30:00  208.044667  63402.473520\n",
      "17        262837860  2018-04-30 22:31:00  213.172276  63402.477588\n",
      "18        262837920  2018-04-30 22:32:00  212.168268  63402.481656\n",
      "19        262837980  2018-04-30 22:33:00  210.052681  63402.485724\n",
      "20        262838040  2018-04-30 22:34:00  208.152239  63402.489795\n",
      "21        262838100  2018-04-30 22:35:00  207.829522  63402.493872\n",
      "22        262838160  2018-04-30 22:36:00  207.686093  63402.497943\n",
      "23        262838220  2018-04-30 22:37:00  208.080524  63402.502020\n",
      "24        262838280  2018-04-30 22:38:00  209.227961  63402.506100\n",
      "25        262838340  2018-04-30 22:39:00  208.008809  63402.510184\n",
      "26        262838400  2018-04-30 22:40:00  209.227961  63402.514267\n",
      "27        262838460  2018-04-30 22:41:00  208.439098  63402.518350\n",
      "28        262838520  2018-04-30 22:42:00  213.494992  63402.522440\n",
      "29        262838580  2018-04-30 22:43:00  210.482970  63402.526526\n",
      "...             ...                  ...         ...           ...\n",
      "103444    269205540  2018-07-13 15:19:00  257.097597  64192.202036\n",
      "103445    269205600  2018-07-13 15:20:00  253.224998  64192.206982\n",
      "103446    269205660  2018-07-13 15:21:00  253.691144  64192.211942\n",
      "103447    269205720  2018-07-13 15:22:00  253.440142  64192.216901\n",
      "103448    269205780  2018-07-13 15:23:00  253.081568  64192.221863\n",
      "103449    269205840  2018-07-13 15:24:00  249.961974  64192.226804\n",
      "103450    269205900  2018-07-13 15:25:00  250.284690  64192.231696\n",
      "103451    269205960  2018-07-13 15:26:00  249.639257  64192.236591\n",
      "103452    269206020  2018-07-13 15:27:00  249.961974  64192.241489\n",
      "103453    269206080  2018-07-13 15:28:00  251.252840  64192.246387\n",
      "103454    269206140  2018-07-13 15:29:00  250.320548  64192.251294\n",
      "103455    269206200  2018-07-13 15:30:00  250.284690  64192.256198\n",
      "103456    269206260  2018-07-13 15:31:00  251.288698  64192.261105\n",
      "103457    269206320  2018-07-13 15:32:00  250.535692  64192.266010\n",
      "103458    269206380  2018-07-13 15:33:00  251.001838  64192.270917\n",
      "103459    269206440  2018-07-13 15:34:00  251.001838  64192.275830\n",
      "103460    269206500  2018-07-13 15:35:00  250.786694  64192.280740\n",
      "103461    269206560  2018-07-13 15:36:00  250.463977  64192.285648\n",
      "103462    269206620  2018-07-13 15:37:00  250.392262  64192.290561\n",
      "103463    269206680  2018-07-13 15:38:00  251.216983  64192.295471\n",
      "103464    269206740  2018-07-13 15:39:00  250.248833  64192.300378\n",
      "103465    269206800  2018-07-13 15:40:00  253.332570  64192.305283\n",
      "103466    269206860  2018-07-13 15:41:00  255.484014  64192.310187\n",
      "103467    269206920  2018-07-13 15:42:00  249.459970  64192.315088\n",
      "103468    269206980  2018-07-13 15:43:00  250.141261  64192.319986\n",
      "103469    269207040  2018-07-13 15:44:00  251.575557  64192.324890\n",
      "103470    269207100  2018-07-13 15:45:00  250.356405  64192.329791\n",
      "103471    269207160  2018-07-13 15:46:00  250.714979  64192.334702\n",
      "103472    269207220  2018-07-13 15:47:00  251.252840  64192.339615\n",
      "103473    269207280  2018-07-13 15:48:00  250.607407  64192.344525\n",
      "\n",
      "[103474 rows x 4 columns]\n",
      "\u001b[2;34;40mSuccessfully fetched Panel C2 Lighting datalog from 2018-04-30 22:14:00 to 2018-07-13 15:48:00\n",
      "\n",
      "\u001b[2;31;43mHTTPConnectionPool(host='172.19.7.33', port=80): Max retries exceeded with url: /datalog.json?hdr=1 (Caused by NewConnectionError('<urllib3.connection.HTTPConnection object at 0x00000001C2A78EF0>: Failed to establish a new connection: [Errno 10060] A connection attempt failed because the connected party did not properly respond after a period of time, or established connection failed because connected host has failed to respond',))\n",
      "\n",
      "\u001b[2;31;43mHTTPConnectionPool(host='172.19.7.33', port=80): Max retries exceeded with url: /datalog.json?hdr=1 (Caused by NewConnectionError('<urllib3.connection.HTTPConnection object at 0x00000001BF2C6F60>: Failed to establish a new connection: [Errno 10060] A connection attempt failed because the connected party did not properly respond after a period of time, or established connection failed because connected host has failed to respond',))\n",
      "\n",
      "\u001b[2;34;40mSuccessfully fetched Exhaust Fans datalog from 2018-05-01 03:35:00 to 2018-07-13 15:49:00\n",
      "\n",
      "\u001b[2;34;40mSuccessfully fetched Natures Classroom datalog from 2018-05-03 13:00:00 to 2018-07-13 15:50:00\n",
      "\n",
      "\u001b[2;34;40mSuccessfully fetched Panel C1 Lighting datalog from 2018-04-30 19:27:00 to 2018-07-13 15:50:00\n",
      "\n",
      "\u001b[2;31;43m(\"Connection broken: error(10054, 'An existing connection was forcibly closed by the remote host')\", error(10054, 'An existing connection was forcibly closed by the remote host'))\n",
      "\n",
      "\u001b[2;34;40mSuccessfully fetched Panel C3 DHW datalog from 2018-05-03 05:13:00 to 2018-07-13 15:50:00\n",
      "\n",
      "\u001b[2;34;40mSuccessfully fetched Incoming Electrical Service datalog from 2018-05-14 06:28:00 to 2018-07-13 15:51:00\n",
      "\n",
      "\u001b[2;34;40mSuccessfully fetched Panel C2 Lighting datalog from 2018-04-30 22:14:00 to 2018-07-13 15:50:00\n",
      "\n",
      "\u001b[2;34;40mSuccessfully fetched Panel C4 Pumps datalog from 2018-07-05 09:11:00 to 2018-07-13 15:55:00\n",
      "\n",
      "\u001b[2;34;40mSuccessfully fetched TX1 Panel A datalog from 2018-05-04 05:02:00 to 2018-07-13 15:51:00\n",
      "\n",
      "\u001b[2;31;43mHTTPConnectionPool(host='172.19.7.33', port=80): Max retries exceeded with url: /datalog.json?hdr=1 (Caused by NewConnectionError('<urllib3.connection.HTTPConnection object at 0x00000001C0348E10>: Failed to establish a new connection: [Errno 10060] A connection attempt failed because the connected party did not properly respond after a period of time, or established connection failed because connected host has failed to respond',))\n",
      "\n",
      "\u001b[2;34;40mSuccessfully fetched Exterior Lighting datalog from 2018-05-03 06:09:00 to 2018-07-13 15:52:00\n",
      "\n",
      "\u001b[2;31;43m'Local Time'\n",
      "\u001b[2;34;40mSuccessfully fetched HRV datalog from 2018-05-01 03:22:00 to 2018-07-13 15:52:00\n",
      "\n",
      "\u001b[2;31;43m'Local Time'\n",
      "\u001b[2;31;43m'Local Time'\n",
      "\u001b[2;31;43m'Local Time'\n",
      "\u001b[2;31;43m'Local Time'\n"
     ]
    }
   ],
   "source": [
    "### Datalog Data Extraction\n",
    "df_datalog = {} # create temporary 1min dataframe dictionary\n",
    "\n",
    "### Execute Parallel Processing Data Extraction using Cuncurrent.futures\n",
    "with ThreadPoolExecutor(max_workers=3) as executor:\n",
    "    args = ((meter_name, url)for meter_name, url in zip(list_meter_name, list_meter_ip))\n",
    "    executor.map(lambda p: fetch_datalog(*p), args)\n",
    "    \n",
    "### Designate Starting and Ending Date for Data Extraction in %Y-%m-%d %H:%M:%S \n",
    "  \n",
    "list_start=[]\n",
    "list_end=[]\n",
    "\n",
    "for key, value in df_datalog.items():\n",
    "    list_start.append(value[\"Z3 Datetime\"].iloc[-1])\n",
    "    list_end.append(value[\"Z3 Datetime\"].iloc[0])\n",
    "    \n",
    "start_date = pd.Series(list_start).min()\n",
    "\n",
    "print \"\\033[2;34;40mSmart Meter Comparison is for the period of from {} to {}\\n\" .format(z3_to_local(start_date), z3_to_local(end_date))\n"
   ]
  },
  {
   "cell_type": "code",
   "execution_count": 61,
   "metadata": {
    "ExecuteTime": {
     "end_time": "2018-07-13T19:21:24.535000Z",
     "start_time": "2018-07-13T19:21:17.189000Z"
    },
    "code_folding": [],
    "extensions": {
     "jupyter_dashboards": {
      "version": 1,
      "views": {
       "grid_default": {
        "hidden": true
       },
       "report_default": {}
      }
     }
    }
   },
   "outputs": [
    {
     "ename": "KeyboardInterrupt",
     "evalue": "",
     "output_type": "error",
     "traceback": [
      "\u001b[1;31m---------------------------------------------------------------------------\u001b[0m",
      "\u001b[1;31mKeyboardInterrupt\u001b[0m                         Traceback (most recent call last)",
      "\u001b[1;32m<ipython-input-61-c1735170e0c8>\u001b[0m in \u001b[0;36m<module>\u001b[1;34m()\u001b[0m\n\u001b[0;32m      5\u001b[0m \u001b[1;32mwith\u001b[0m \u001b[0mThreadPoolExecutor\u001b[0m\u001b[1;33m(\u001b[0m\u001b[0mmax_workers\u001b[0m\u001b[1;33m=\u001b[0m\u001b[1;36m3\u001b[0m\u001b[1;33m)\u001b[0m \u001b[1;32mas\u001b[0m \u001b[0mexecutor\u001b[0m\u001b[1;33m:\u001b[0m\u001b[1;33m\u001b[0m\u001b[0m\n\u001b[0;32m      6\u001b[0m     \u001b[0margs\u001b[0m \u001b[1;33m=\u001b[0m \u001b[1;33m(\u001b[0m\u001b[1;33m(\u001b[0m\u001b[0mmeter_name\u001b[0m\u001b[1;33m,\u001b[0m \u001b[0murl\u001b[0m\u001b[1;33m)\u001b[0m\u001b[1;32mfor\u001b[0m \u001b[0mmeter_name\u001b[0m\u001b[1;33m,\u001b[0m \u001b[0murl\u001b[0m \u001b[1;32min\u001b[0m \u001b[0mzip\u001b[0m\u001b[1;33m(\u001b[0m\u001b[0mlist_meter_name\u001b[0m\u001b[1;33m,\u001b[0m \u001b[0mlist_meter_ip\u001b[0m\u001b[1;33m)\u001b[0m\u001b[1;33m)\u001b[0m\u001b[1;33m\u001b[0m\u001b[0m\n\u001b[1;32m----> 7\u001b[1;33m     \u001b[0mexecutor\u001b[0m\u001b[1;33m.\u001b[0m\u001b[0mmap\u001b[0m\u001b[1;33m(\u001b[0m\u001b[1;32mlambda\u001b[0m \u001b[0mp\u001b[0m\u001b[1;33m:\u001b[0m \u001b[0mfetch_1min\u001b[0m\u001b[1;33m(\u001b[0m\u001b[1;33m*\u001b[0m\u001b[0mp\u001b[0m\u001b[1;33m)\u001b[0m\u001b[1;33m,\u001b[0m \u001b[0margs\u001b[0m\u001b[1;33m)\u001b[0m\u001b[1;33m\u001b[0m\u001b[0m\n\u001b[0m",
      "\u001b[1;32mC:\\Users\\leejas\\anaconda\\lib\\site-packages\\concurrent\\futures\\_base.pyc\u001b[0m in \u001b[0;36m__exit__\u001b[1;34m(self, exc_type, exc_val, exc_tb)\u001b[0m\n\u001b[0;32m    664\u001b[0m \u001b[1;33m\u001b[0m\u001b[0m\n\u001b[0;32m    665\u001b[0m     \u001b[1;32mdef\u001b[0m \u001b[0m__exit__\u001b[0m\u001b[1;33m(\u001b[0m\u001b[0mself\u001b[0m\u001b[1;33m,\u001b[0m \u001b[0mexc_type\u001b[0m\u001b[1;33m,\u001b[0m \u001b[0mexc_val\u001b[0m\u001b[1;33m,\u001b[0m \u001b[0mexc_tb\u001b[0m\u001b[1;33m)\u001b[0m\u001b[1;33m:\u001b[0m\u001b[1;33m\u001b[0m\u001b[0m\n\u001b[1;32m--> 666\u001b[1;33m         \u001b[0mself\u001b[0m\u001b[1;33m.\u001b[0m\u001b[0mshutdown\u001b[0m\u001b[1;33m(\u001b[0m\u001b[0mwait\u001b[0m\u001b[1;33m=\u001b[0m\u001b[0mTrue\u001b[0m\u001b[1;33m)\u001b[0m\u001b[1;33m\u001b[0m\u001b[0m\n\u001b[0m\u001b[0;32m    667\u001b[0m         \u001b[1;32mreturn\u001b[0m \u001b[0mFalse\u001b[0m\u001b[1;33m\u001b[0m\u001b[0m\n",
      "\u001b[1;32mC:\\Users\\leejas\\anaconda\\lib\\site-packages\\concurrent\\futures\\thread.pyc\u001b[0m in \u001b[0;36mshutdown\u001b[1;34m(self, wait)\u001b[0m\n\u001b[0;32m    157\u001b[0m         \u001b[1;32mif\u001b[0m \u001b[0mwait\u001b[0m\u001b[1;33m:\u001b[0m\u001b[1;33m\u001b[0m\u001b[0m\n\u001b[0;32m    158\u001b[0m             \u001b[1;32mfor\u001b[0m \u001b[0mt\u001b[0m \u001b[1;32min\u001b[0m \u001b[0mself\u001b[0m\u001b[1;33m.\u001b[0m\u001b[0m_threads\u001b[0m\u001b[1;33m:\u001b[0m\u001b[1;33m\u001b[0m\u001b[0m\n\u001b[1;32m--> 159\u001b[1;33m                 \u001b[0mt\u001b[0m\u001b[1;33m.\u001b[0m\u001b[0mjoin\u001b[0m\u001b[1;33m(\u001b[0m\u001b[0msys\u001b[0m\u001b[1;33m.\u001b[0m\u001b[0mmaxint\u001b[0m\u001b[1;33m)\u001b[0m\u001b[1;33m\u001b[0m\u001b[0m\n\u001b[0m\u001b[0;32m    160\u001b[0m     \u001b[0mshutdown\u001b[0m\u001b[1;33m.\u001b[0m\u001b[0m__doc__\u001b[0m \u001b[1;33m=\u001b[0m \u001b[0m_base\u001b[0m\u001b[1;33m.\u001b[0m\u001b[0mExecutor\u001b[0m\u001b[1;33m.\u001b[0m\u001b[0mshutdown\u001b[0m\u001b[1;33m.\u001b[0m\u001b[0m__doc__\u001b[0m\u001b[1;33m\u001b[0m\u001b[0m\n",
      "\u001b[1;32mC:\\Users\\leejas\\anaconda\\lib\\threading.pyc\u001b[0m in \u001b[0;36mjoin\u001b[1;34m(self, timeout)\u001b[0m\n\u001b[0;32m    949\u001b[0m                             \u001b[0mself\u001b[0m\u001b[1;33m.\u001b[0m\u001b[0m_note\u001b[0m\u001b[1;33m(\u001b[0m\u001b[1;34m\"%s.join(): timed out\"\u001b[0m\u001b[1;33m,\u001b[0m \u001b[0mself\u001b[0m\u001b[1;33m)\u001b[0m\u001b[1;33m\u001b[0m\u001b[0m\n\u001b[0;32m    950\u001b[0m                         \u001b[1;32mbreak\u001b[0m\u001b[1;33m\u001b[0m\u001b[0m\n\u001b[1;32m--> 951\u001b[1;33m                     \u001b[0mself\u001b[0m\u001b[1;33m.\u001b[0m\u001b[0m__block\u001b[0m\u001b[1;33m.\u001b[0m\u001b[0mwait\u001b[0m\u001b[1;33m(\u001b[0m\u001b[0mdelay\u001b[0m\u001b[1;33m)\u001b[0m\u001b[1;33m\u001b[0m\u001b[0m\n\u001b[0m\u001b[0;32m    952\u001b[0m                 \u001b[1;32melse\u001b[0m\u001b[1;33m:\u001b[0m\u001b[1;33m\u001b[0m\u001b[0m\n\u001b[0;32m    953\u001b[0m                     \u001b[1;32mif\u001b[0m \u001b[0m__debug__\u001b[0m\u001b[1;33m:\u001b[0m\u001b[1;33m\u001b[0m\u001b[0m\n",
      "\u001b[1;32mC:\\Users\\leejas\\anaconda\\lib\\threading.pyc\u001b[0m in \u001b[0;36mwait\u001b[1;34m(self, timeout)\u001b[0m\n\u001b[0;32m    357\u001b[0m                         \u001b[1;32mbreak\u001b[0m\u001b[1;33m\u001b[0m\u001b[0m\n\u001b[0;32m    358\u001b[0m                     \u001b[0mdelay\u001b[0m \u001b[1;33m=\u001b[0m \u001b[0mmin\u001b[0m\u001b[1;33m(\u001b[0m\u001b[0mdelay\u001b[0m \u001b[1;33m*\u001b[0m \u001b[1;36m2\u001b[0m\u001b[1;33m,\u001b[0m \u001b[0mremaining\u001b[0m\u001b[1;33m,\u001b[0m \u001b[1;36m.05\u001b[0m\u001b[1;33m)\u001b[0m\u001b[1;33m\u001b[0m\u001b[0m\n\u001b[1;32m--> 359\u001b[1;33m                     \u001b[0m_sleep\u001b[0m\u001b[1;33m(\u001b[0m\u001b[0mdelay\u001b[0m\u001b[1;33m)\u001b[0m\u001b[1;33m\u001b[0m\u001b[0m\n\u001b[0m\u001b[0;32m    360\u001b[0m                 \u001b[1;32mif\u001b[0m \u001b[1;32mnot\u001b[0m \u001b[0mgotit\u001b[0m\u001b[1;33m:\u001b[0m\u001b[1;33m\u001b[0m\u001b[0m\n\u001b[0;32m    361\u001b[0m                     \u001b[1;32mif\u001b[0m \u001b[0m__debug__\u001b[0m\u001b[1;33m:\u001b[0m\u001b[1;33m\u001b[0m\u001b[0m\n",
      "\u001b[1;31mKeyboardInterrupt\u001b[0m: "
     ]
    }
   ],
   "source": [
    "### 1MIN Data Extraction\n",
    "df_1min = {} # create temporary 1min dataframe dictionary\n",
    "\n",
    "### Execute Parallel Processing Data Extraction using \n",
    "with ThreadPoolExecutor(max_workers=3) as executor:\n",
    "    args = ((meter_name, url)for meter_name, url in zip(list_meter_name, list_meter_ip))\n",
    "    executor.map(lambda p: fetch_1min(*p), args)"
   ]
  },
  {
   "cell_type": "code",
   "execution_count": 67,
   "metadata": {
    "ExecuteTime": {
     "end_time": "2018-07-13T19:25:49.246000Z",
     "start_time": "2018-07-13T19:25:14.915000Z"
    },
    "extensions": {
     "jupyter_dashboards": {
      "version": 1,
      "views": {
       "grid_default": {
        "hidden": true
       },
       "report_default": {}
      }
     }
    }
   },
   "outputs": [
    {
     "name": "stdout",
     "output_type": "stream",
     "text": [
      "\u001b[2;36;40mSuccessfully stored TX1 Panel A 1HOUR data from 2018-07-13 15:25:14 to 2018-04-14 16:00:00\n",
      "\n",
      "\u001b[2;36;40mSuccessfully stored TX3 Panel B 1HOUR data from 2018-07-13 15:25:14 to 2018-04-14 16:00:00\n",
      "\n",
      "\u001b[2;36;40mSuccessfully stored Incoming Electrical Service 1HOUR data from 2018-07-13 15:25:14 to 2018-04-14 16:00:00\n",
      "\n",
      "\u001b[2;36;40mSuccessfully stored Vehicle Charger 2 1HOUR data from 2018-07-13 15:25:18 to 2018-04-14 16:00:00\n",
      "\n",
      "\u001b[2;36;40mSuccessfully stored Vehicle Charger 1 1HOUR data from 2018-07-13 15:25:17 to 2018-04-14 16:00:00\n",
      "\n",
      "\u001b[2;36;40mSuccessfully stored Exterior Lighting 1HOUR data from 2018-07-13 15:25:18 to 2018-04-14 16:00:00\n",
      "\n",
      "\u001b[2;36;40mSuccessfully stored Panel C3 DHW 1HOUR data from 2018-07-13 15:25:22 to 2018-04-14 16:00:00\n",
      "\n",
      "\u001b[2;36;40mSuccessfully stored Panel C1 Lighting 1HOUR data from 2018-07-13 15:25:22 to 2018-04-14 16:00:00\n",
      "\n",
      "\u001b[2;36;40mSuccessfully stored Panel C2 Lighting 1HOUR data from 2018-07-13 15:25:23 to 2018-04-14 16:00:00\n",
      "\n",
      "\u001b[2;36;40mSuccessfully stored Panel C4 Pumps 1HOUR data from 2018-07-13 15:25:26 to 2018-04-14 16:00:00\n",
      "\n",
      "\u001b[2;36;40mSuccessfully stored Natures Classroom 1HOUR data from 2018-07-13 15:25:26 to 2018-04-14 16:00:00\n",
      "\n",
      "\u001b[2;36;40mSuccessfully stored Solar PV System Output 1HOUR data from 2018-07-13 15:25:26 to 2018-04-14 16:00:00\n",
      "\n",
      "\u001b[2;36;40mSuccessfully stored Exhaust Fans 1HOUR data from 2018-07-13 15:25:30 to 2018-04-14 16:00:00\n",
      "\n",
      "\u001b[2;36;40mSuccessfully stored Ceiling Fans 1HOUR data from 2018-07-13 15:25:31 to 2018-04-14 16:00:00\n",
      "\n",
      "\u001b[2;36;40mSuccessfully stored HRV 1HOUR data from 2018-07-13 15:25:31 to 2018-04-14 16:00:00\n",
      "\n",
      "\u001b[2;36;40mSuccessfully stored ERV 1HOUR data from 2018-07-13 15:25:34 to 2018-04-14 16:00:00\n",
      "\n",
      "\u001b[2;36;40mSuccessfully stored FC1 1HOUR data from 2018-07-13 15:25:35 to 2018-04-14 16:00:00\n",
      "\n",
      "\u001b[2;36;40mSuccessfully stored Cistern System CT 1HOUR data from 2018-07-13 15:25:35 to 2018-04-14 16:00:00\n",
      "\n",
      "\u001b[2;36;40mSuccessfully stored OU1 1HOUR data from 2018-07-13 15:25:40 to 2018-04-14 16:00:00\n",
      "\n",
      "\u001b[2;36;40mSuccessfully stored Biofilter Pump 1HOUR data from 2018-07-13 15:25:39 to 2018-04-14 16:00:00\n",
      "\n",
      "\u001b[2;36;40mSuccessfully stored Balancing Pump 1HOUR data from 2018-07-13 15:25:39 to 2018-04-14 16:00:00\n",
      "\n",
      "\u001b[2;36;40mSuccessfully stored Duct Heater Dh1 HRV 1HOUR data from 2018-07-13 15:25:43 to 2018-04-14 16:00:00\n",
      "\n",
      "\u001b[2;36;40mSuccessfully stored Duct Heater DH2 ERV 1HOUR data from 2018-07-13 15:25:43 to 2018-04-14 16:00:00\n",
      "\n",
      "\u001b[2;36;40mSuccessfully stored Av Security UV 1HOUR data from 2018-07-13 15:25:43 to 2018-04-14 16:00:00\n",
      "\n"
     ]
    }
   ],
   "source": [
    "### 1HOUR Data Extraction\n",
    "df_1hour = {} # create temporary 1hour dataframe dictionary\n",
    "\n",
    "### Execute Parallel Processing Data Extraction using \n",
    "with ThreadPoolExecutor(max_workers=3) as executor:\n",
    "    args = ((meter_name, url)for meter_name, url in zip(list_meter_name, list_meter_ip))\n",
    "    executor.map(lambda p: fetch_1hour(*p), args)"
   ]
  },
  {
   "cell_type": "markdown",
   "metadata": {
    "ExecuteTime": {
     "start_time": "2018-07-13T13:59:59.748Z"
    },
    "extensions": {
     "jupyter_dashboards": {
      "version": 1,
      "views": {
       "grid_default": {
        "col": 5,
        "height": 4,
        "hidden": false,
        "row": 0,
        "width": 4
       },
       "report_default": {}
      }
     }
    }
   },
   "source": [
    "<span style=\"color:Blue; font-family:Times New Roman; font-size:1.2em;\">Datalog vs 1MIN</span>"
   ]
  },
  {
   "cell_type": "code",
   "execution_count": null,
   "metadata": {
    "extensions": {
     "jupyter_dashboards": {
      "version": 1,
      "views": {
       "grid_default": {
        "hidden": true
       },
       "report_default": {}
      }
     }
    }
   },
   "outputs": [],
   "source": [
    "### Create Available Data Records, Dat\n",
    "\n",
    "df_temp = {}\n",
    "\n",
    "for meter_name in list_meter_name:\n",
    "    beg_date = df_datalog[\"Z3 Datetime\"].iloc[0]\n",
    "    end_date = df_1min[\"Z3 Datetime\"].iloc[-1]\n",
    "    df_temp[meter_name]=[df_datalog[\"Local Time\"].iloc[0] , df_1min[\"Local Time\"].iloc[-1] ,df_datalog[[df_datalog[\"Z3 Datetime\"]<=end_date]].shape[0], df_1min[df_1min[\"Z3 Datetime\"]>=beg_date].shape[0], (end_date- beg_date)/60]\n",
    "    \n",
    "df_datalog_1min = pd.DataFrame.from_dict(df_temp, orient='index').rename(columns={0:\"Begin Date\", 1:\"End Date\", 2:\"Datalog Minutes\", 3:\"1MIN Minutes\", 4:\"Available Minutes\"})    \n",
    "\n",
    "table = ff.create_table(df_datalog_1min)\n",
    "table.layout.width=800\n",
    "py.iplot(table)"
   ]
  },
  {
   "cell_type": "markdown",
   "metadata": {
    "ExecuteTime": {
     "end_time": "2018-07-13T14:59:52.395000Z",
     "start_time": "2018-07-13T14:59:31.834000Z"
    },
    "extensions": {
     "jupyter_dashboards": {
      "version": 1,
      "views": {
       "grid_default": {
        "col": 5,
        "height": 4,
        "hidden": false,
        "row": 4,
        "width": 4
       },
       "report_default": {}
      }
     }
    }
   },
   "source": [
    "<span style=\"color:Blue; font-family:Times New Roman; font-size:1.2em;\">Datalog vs 1HOUR</span>"
   ]
  },
  {
   "cell_type": "code",
   "execution_count": null,
   "metadata": {
    "ExecuteTime": {
     "start_time": "2018-07-13T19:56:01.281Z"
    },
    "extensions": {
     "jupyter_dashboards": {
      "version": 1,
      "views": {
       "grid_default": {
        "hidden": true
       },
       "report_default": {}
      }
     }
    }
   },
   "outputs": [],
   "source": [
    "df_temp = {}\n",
    "\n",
    "for meter_name in list_meter_name:\n",
    "    df_dl = df_datalog[meter_name]\n",
    "    Filter=pd.to_datetime(df_dl[\"Local Time\"], format=\"%Y-%m-%d %H:%M:%S\").minute==0\n",
    "    df_dl = df_dl[Filter]\n",
    "    \n",
    "    df_hr = df_1hour[meter_name]\n",
    "    \n",
    "    beg_date = df_dl[\"Z3 Datetime\"].iloc[0]\n",
    "    end_date = df_hr[\"Z3 Datetime\"].iloc[-1]\n",
    "    \n",
    "\n",
    "    df_temp[meter_name]=[df_hr[\"Local Time\"].iloc[0], df_dl[\"Local Time\"].iloc[-1] , df_dl[meter_name].shape[0], df_hr[meter_name].shape[0], (end_date - beg_date)/(60*60)]\n",
    "\n",
    "df_datalog_1hour = pd.DataFrame.from_dict(df_temp, orient='index').rename(columns={0:\"Begin Date\", 1:\"End Date\", 2:\"Datalog Hours\", 3:\"1HOUR HOURS\", 4:\"Available Hours\"})    \n",
    "\n",
    "table = ff.create_table(df_datalog_1hour)\n",
    "table.layout.width=800\n",
    "py.iplot(table)    \n",
    "    \n",
    "    \n",
    "    "
   ]
  },
  {
   "cell_type": "code",
   "execution_count": null,
   "metadata": {},
   "outputs": [],
   "source": []
  }
 ],
 "metadata": {
  "anaconda-cloud": {},
  "extensions": {
   "jupyter_dashboards": {
    "activeView": "grid_default",
    "version": 1,
    "views": {
     "grid_default": {
      "cellMargin": 10,
      "defaultCellHeight": 20,
      "maxColumns": 12,
      "name": "grid",
      "type": "grid"
     },
     "report_default": {
      "name": "report",
      "type": "report"
     }
    }
   }
  },
  "kernelspec": {
   "display_name": "Python [default]",
   "language": "python",
   "name": "python3"
  },
  "language_info": {
   "codemirror_mode": {
    "name": "ipython",
    "version": 3
   },
   "file_extension": ".py",
   "mimetype": "text/x-python",
   "name": "python",
   "nbconvert_exporter": "python",
   "pygments_lexer": "ipython3",
   "version": "3.6.5"
  }
 },
 "nbformat": 4,
 "nbformat_minor": 2
}
